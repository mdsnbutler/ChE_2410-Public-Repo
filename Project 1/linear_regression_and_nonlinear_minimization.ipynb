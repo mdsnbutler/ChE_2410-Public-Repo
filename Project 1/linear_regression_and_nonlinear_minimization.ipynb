{
 "cells": [
  {
   "cell_type": "markdown",
   "metadata": {},
   "source": [
    "I am going to great a linear algebra model for predicting total infections. The equation will take the form of: y = ax1 + bx2 + c, where y is the log10 of total infections, x1 is the log10 of transportation usage, x2 is the log10 of population density, all by county. I predict the error of this linear model will be fairly high, and most of the effect will come from the intercept. I predict this because the data vizualization seems very noisy when plotted log log."
   ]
  },
  {
   "cell_type": "code",
   "execution_count": 4,
   "metadata": {},
   "outputs": [
    {
     "data": {
      "image/png": "[encoded data removed]",
      "text/plain": [
       "<Figure size 432x288 with 1 Axes>"
      ]
     },
     "metadata": {
      "needs_background": "light"
     },
     "output_type": "display_data"
    },
    {
     "data": {
      "image/png": "[encoded data removed]",
      "text/plain": [
       "<Figure size 432x288 with 1 Axes>"
      ]
     },
     "metadata": {
      "needs_background": "light"
     },
     "output_type": "display_data"
    },
    {
     "data": {
      "image/png": "[encoded data removed]",
      "text/plain": [
       "<Figure size 432x288 with 1 Axes>"
      ]
     },
     "metadata": {
      "needs_background": "light"
     },
     "output_type": "display_data"
    },
    {
     "name": "stdout",
     "output_type": "stream",
     "text": [
      "[[ 1.         -3.10679713  1.55453058]\n",
      " [ 1.         -2.66886922  1.70364816]\n",
      " [ 1.         -2.39966279  1.05107458]\n",
      " ...\n",
      " [ 1.         -1.46515773  0.04074696]\n",
      " [ 1.         -2.95900191  0.6414873 ]\n",
      " [ 1.         -1.12899069  0.79542045]]\n",
      "Intercept is: 6.733526429091897 slope trans is: 0.2976735252636127 slope density is: 0.11874051999939815\n",
      "                            OLS Regression Results                            \n",
      "==============================================================================\n",
      "Dep. Variable:                      y   R-squared:                       0.134\n",
      "Model:                            OLS   Adj. R-squared:                  0.133\n",
      "Method:                 Least Squares   F-statistic:                     231.4\n",
      "Date:                Fri, 14 Oct 2022   Prob (F-statistic):           3.36e-94\n",
      "Time:                        16:34:52   Log-Likelihood:                -2787.7\n",
      "No. Observations:                3004   AIC:                             5581.\n",
      "Df Residuals:                    3001   BIC:                             5599.\n",
      "Df Model:                           2                                         \n",
      "Covariance Type:            nonrobust                                         \n",
      "==============================================================================\n",
      "                 coef    std err          t      P>|t|      [0.025      0.975]\n",
      "------------------------------------------------------------------------------\n",
      "const          6.7335      0.046    147.960      0.000       6.644       6.823\n",
      "x1             0.2977      0.015     20.030      0.000       0.269       0.327\n",
      "x2             0.1187      0.016      7.316      0.000       0.087       0.151\n",
      "==============================================================================\n",
      "Omnibus:                       43.735   Durbin-Watson:                   1.835\n",
      "Prob(Omnibus):                  0.000   Jarque-Bera (JB):               76.873\n",
      "Skew:                          -0.072   Prob(JB):                     2.03e-17\n",
      "Kurtosis:                       3.770   Cond. No.                         13.4\n",
      "==============================================================================\n",
      "\n",
      "Notes:\n",
      "[1] Standard Errors assume that the covariance matrix of the errors is correctly specified.\n"
     ]
    }
   ],
   "source": [
    "import pandas as pd\n",
    "import matplotlib.pyplot as plt\n",
    "import numpy as np\n",
    "from numpy.linalg import inv\n",
    "import statsmodels.api as sm\n",
    "import math\n",
    "\n",
    "data = pd.DataFrame(pd.read_csv(r\"C:\\Users\\mdsnb\\OneDrive\\Documents\\GitHub\\ChE_2410_Math\\Project 1\\countydata.csv\"))\n",
    "\n",
    "logdensity = np.log10(np.array(data['Density'].tolist()))\n",
    "loginf = np.log10(np.array(data['Total infections'].tolist()))\n",
    "logtrans = np.log10(np.array(data['Public Transportation Usage'].tolist())+.0000001)\n",
    "intercept = np.ones(len(logdensity))\n",
    "\n",
    "for k in range(len(logtrans)):\n",
    "    if logtrans[k] <= -4:\n",
    "        logtrans[k] = -4\n",
    "\n",
    "plt.hist(loginf, bins = 100)\n",
    "plt.title('Histogram of log10 of total infections')\n",
    "plt.show()\n",
    "plt.hist(logdensity, bins = 100)\n",
    "plt.title('Histogram of log10 of population density')\n",
    "plt.show()\n",
    "plt.hist(logtrans, bins = 100)\n",
    "plt.title('Histogram of log10 of transportation usage')\n",
    "plt.show()\n",
    "\n",
    "matrix = np.vstack((intercept, logtrans, logdensity)).T\n",
    "print(matrix)\n",
    "\n",
    "tmp = inv(np.matmul(np.transpose(matrix), matrix))\n",
    "\n",
    "interceptvalue, slopetrans, slopedensity = tmp @ np.transpose(matrix) @ loginf\n",
    "\n",
    "print('Intercept is:', interceptvalue, \"slope trans is:\", slopetrans, 'slope density is:', slopedensity)\n",
    "\n",
    "model = sm.OLS(loginf, matrix).fit()\n",
    "\n",
    "print(model.summary())"
   ]
  }
 ],
 "metadata": {
  "kernelspec": {
   "display_name": "Python 3.9.12 ('base')",
   "language": "python",
   "name": "python3"
  },
  "language_info": {
   "codemirror_mode": {
    "name": "ipython",
    "version": 3
   },
   "file_extension": ".py",
   "mimetype": "text/x-python",
   "name": "python",
   "nbconvert_exporter": "python",
   "pygments_lexer": "ipython3",
   "version": "3.9.12"
  },
  "orig_nbformat": 4,
  "vscode": {
   "interpreter": {
    "hash": "3ea7c28dc7569e024bd9f57d5fd933e532fb588a53e331ae301b88ac3d4d46d7"
   }
  }
 },
 "nbformat": 4,
 "nbformat_minor": 2
}
