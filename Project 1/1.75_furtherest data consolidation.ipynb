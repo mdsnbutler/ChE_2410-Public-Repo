{
 "cells": [
  {
   "cell_type": "code",
   "execution_count": 10,
   "metadata": {},
   "outputs": [
    {
     "name": "stdout",
     "output_type": "stream",
     "text": [
      "The number of rows in coviddata: 1185373\n",
      "         date   county    state    fips  cases  deaths\n",
      "0  2021-01-01  Autauga  Alabama  1001.0   4239    50.0\n",
      "1  2021-01-01  Baldwin  Alabama  1003.0  13823   169.0\n",
      "2  2021-01-01  Barbour  Alabama  1005.0   1517    33.0\n",
      "3  2021-01-01     Bibb  Alabama  1007.0   1854    46.0\n",
      "4  2021-01-01   Blount  Alabama  1009.0   4693    63.0\n"
     ]
    },
    {
     "ename": "AttributeError",
     "evalue": "module 'matplotlib' has no attribute 'hist'",
     "output_type": "error",
     "traceback": [
      "\u001b[1;31m---------------------------------------------------------------------------\u001b[0m",
      "\u001b[1;31mAttributeError\u001b[0m                            Traceback (most recent call last)",
      "\u001b[1;32mc:\\Users\\mdsnb\\OneDrive\\Documents\\GitHub\\ChE_2410_Math\\Project 1\\1.75_furtherest data consolidation.ipynb Cell 1\u001b[0m in \u001b[0;36m<cell line: 57>\u001b[1;34m()\u001b[0m\n\u001b[0;32m     <a href='vscode-notebook-cell:/c%3A/Users/mdsnb/OneDrive/Documents/GitHub/ChE_2410_Math/Project%201/1.75_furtherest%20data%20consolidation.ipynb#W0sZmlsZQ%3D%3D?line=53'>54</a>\u001b[0m         reportingcount\u001b[39m.\u001b[39mappend(\u001b[39m1\u001b[39m)\n\u001b[0;32m     <a href='vscode-notebook-cell:/c%3A/Users/mdsnb/OneDrive/Documents/GitHub/ChE_2410_Math/Project%201/1.75_furtherest%20data%20consolidation.ipynb#W0sZmlsZQ%3D%3D?line=55'>56</a>\u001b[0m figure(figsize \u001b[39m=\u001b[39m (\u001b[39m10\u001b[39m, \u001b[39m10\u001b[39m), dpi \u001b[39m=\u001b[39m \u001b[39m300\u001b[39m)\n\u001b[1;32m---> <a href='vscode-notebook-cell:/c%3A/Users/mdsnb/OneDrive/Documents/GitHub/ChE_2410_Math/Project%201/1.75_furtherest%20data%20consolidation.ipynb#W0sZmlsZQ%3D%3D?line=56'>57</a>\u001b[0m plt\u001b[39m.\u001b[39;49mhist(reportingcount, bins \u001b[39m=\u001b[39m \u001b[39m100\u001b[39m)\n\u001b[0;32m     <a href='vscode-notebook-cell:/c%3A/Users/mdsnb/OneDrive/Documents/GitHub/ChE_2410_Math/Project%201/1.75_furtherest%20data%20consolidation.ipynb#W0sZmlsZQ%3D%3D?line=57'>58</a>\u001b[0m plt\u001b[39m.\u001b[39mlegend(\u001b[39m'\u001b[39m\u001b[39m'\u001b[39m)\n\u001b[0;32m     <a href='vscode-notebook-cell:/c%3A/Users/mdsnb/OneDrive/Documents/GitHub/ChE_2410_Math/Project%201/1.75_furtherest%20data%20consolidation.ipynb#W0sZmlsZQ%3D%3D?line=58'>59</a>\u001b[0m plt\u001b[39m.\u001b[39mxlabel(\u001b[39m'\u001b[39m\u001b[39mReporting Count\u001b[39m\u001b[39m'\u001b[39m, fontsize\u001b[39m=\u001b[39m\u001b[39m28\u001b[39m)\n",
      "File \u001b[1;32mc:\\Users\\mdsnb\\anaconda3\\lib\\site-packages\\matplotlib\\_api\\__init__.py:222\u001b[0m, in \u001b[0;36mcaching_module_getattr.<locals>.__getattr__\u001b[1;34m(name)\u001b[0m\n\u001b[0;32m    220\u001b[0m \u001b[39mif\u001b[39;00m name \u001b[39min\u001b[39;00m props:\n\u001b[0;32m    221\u001b[0m     \u001b[39mreturn\u001b[39;00m props[name]\u001b[39m.\u001b[39m\u001b[39m__get__\u001b[39m(instance)\n\u001b[1;32m--> 222\u001b[0m \u001b[39mraise\u001b[39;00m \u001b[39mAttributeError\u001b[39;00m(\n\u001b[0;32m    223\u001b[0m     \u001b[39mf\u001b[39m\u001b[39m\"\u001b[39m\u001b[39mmodule \u001b[39m\u001b[39m{\u001b[39;00m\u001b[39mcls\u001b[39m\u001b[39m.\u001b[39m\u001b[39m__module__\u001b[39m\u001b[39m!r}\u001b[39;00m\u001b[39m has no attribute \u001b[39m\u001b[39m{\u001b[39;00mname\u001b[39m!r}\u001b[39;00m\u001b[39m\"\u001b[39m)\n",
      "\u001b[1;31mAttributeError\u001b[0m: module 'matplotlib' has no attribute 'hist'"
     ]
    },
    {
     "data": {
      "text/plain": [
       "<Figure size 3000x3000 with 0 Axes>"
      ]
     },
     "metadata": {},
     "output_type": "display_data"
    }
   ],
   "source": [
    "import pandas as pd\n",
    "import numpy as np\n",
    "import matplotlib as plt\n",
    "from matplotlib.pyplot import figure\n",
    "\n",
    "countylist = []\n",
    "stateslist = []\n",
    "reportingcount = []\n",
    "\n",
    "#lets get covid data\n",
    "coviddata = pd.DataFrame(pd.read_csv(r\"C:\\Users\\mdsnb\\Downloads\\us-counties-2021.csv\"))\n",
    "print('The number of rows in coviddata:', len(coviddata.index))\n",
    "print(coviddata.head())\n",
    "\n",
    "def listindices(list_to_check, item_to_find):\n",
    "    indices = []\n",
    "    for idx, value in enumerate(list_to_check):\n",
    "        if value == item_to_find:\n",
    "            indices.append(idx)\n",
    "    return indices\n",
    "\n",
    "#getting sum infections for 2021 by county\n",
    "\n",
    "for k in range(len(coviddata.index)):\n",
    "\n",
    "    countyname = coviddata.loc[k, 'county']\n",
    "    #print('Name:',countyname,)\n",
    "\n",
    "    #making an associated state entry\n",
    "    countystate = coviddata.loc[k, 'state']\n",
    "    #print('county state',countystate)\n",
    "\n",
    "    #for every row checking if the county name is in countylist\n",
    "    if (countyname in countylist) is True:\n",
    "\n",
    "        #call an array of indices\n",
    "        tempindices = listindices(countylist, countyname)\n",
    "        #print(tempindices)\n",
    "\n",
    "        #iterate over array of indices to see if states match\n",
    "        for i in tempindices:\n",
    "            if stateslist[i] == countystate:\n",
    "                if k <= i:\n",
    "\n",
    "                    #if they do, update the associated entry in the cases list by the new amount\n",
    "                    reportingcount[tempindices[i]] += 1\n",
    "       \n",
    "    #otherwise adding country name, this entry cases, and the associated state\n",
    "    else:\n",
    "\n",
    "        #print('this county does not exist yet - ', countyname)\n",
    "        countylist.append(countyname)\n",
    "        stateslist.append(countystate)\n",
    "        reportingcount.append(1)\n",
    "\n",
    "figure(figsize = (10, 10), dpi = 300)\n",
    "plt.hist(reportingcount, bins = 100)\n",
    "plt.legend('')\n",
    "plt.xlabel('Reporting Count', fontsize=28)\n",
    "plt.ylabel('Count (Reports)', fontsize=28)\n",
    "plt.tick_params(labelsize=26)\n",
    "\n",
    "#verifying that the correct counties were tabulated\n",
    "print('number of unique counties produced',len(countylist), 'average reporting = ', np.average(reportingcount), 'stdev reporting =', np.std(reportingcount))"
   ]
  }
 ],
 "metadata": {
  "kernelspec": {
   "display_name": "Python 3.9.12 ('base')",
   "language": "python",
   "name": "python3"
  },
  "language_info": {
   "codemirror_mode": {
    "name": "ipython",
    "version": 3
   },
   "file_extension": ".py",
   "mimetype": "text/x-python",
   "name": "python",
   "nbconvert_exporter": "python",
   "pygments_lexer": "ipython3",
   "version": "3.9.12"
  },
  "orig_nbformat": 4,
  "vscode": {
   "interpreter": {
    "hash": "3ea7c28dc7569e024bd9f57d5fd933e532fb588a53e331ae301b88ac3d4d46d7"
   }
  }
 },
 "nbformat": 4,
 "nbformat_minor": 2
}
