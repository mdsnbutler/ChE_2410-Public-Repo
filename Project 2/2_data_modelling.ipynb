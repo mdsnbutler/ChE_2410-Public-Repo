{
 "cells": [
  {
   "cell_type": "markdown",
   "metadata": {},
   "source": [
    "Going to model the data here."
   ]
  },
  {
   "cell_type": "code",
   "execution_count": 104,
   "metadata": {},
   "outputs": [
    {
     "ename": "TypeError",
     "evalue": "'int' object is not iterable",
     "output_type": "error",
     "traceback": [
      "\u001b[1;31m---------------------------------------------------------------------------\u001b[0m",
      "\u001b[1;31mTypeError\u001b[0m                                 Traceback (most recent call last)",
      "Cell \u001b[1;32mIn [104], line 37\u001b[0m\n\u001b[0;32m     34\u001b[0m     \u001b[39mreturn\u001b[39;00m (np\u001b[39m.\u001b[39msum(errB) \u001b[39m+\u001b[39m np\u001b[39m.\u001b[39msum(errC) \u001b[39m+\u001b[39m np\u001b[39m.\u001b[39msum(errP))\n\u001b[0;32m     36\u001b[0m bounds \u001b[39m=\u001b[39m ([\u001b[39m0\u001b[39m, \u001b[39m10E100\u001b[39m])\n\u001b[1;32m---> 37\u001b[0m sol \u001b[39m=\u001b[39m minimize(err, x0 \u001b[39m=\u001b[39;49m ac, bounds \u001b[39m=\u001b[39;49m bounds, method \u001b[39m=\u001b[39;49m \u001b[39m\"\u001b[39;49m\u001b[39mNelder-Mead\u001b[39;49m\u001b[39m\"\u001b[39;49m)\n\u001b[0;32m     38\u001b[0m \u001b[39mprint\u001b[39m(sol)\n\u001b[0;32m     40\u001b[0m fitdata \u001b[39m=\u001b[39m odeint(func, ic, data[\u001b[39m\"\u001b[39m\u001b[39mtime\u001b[39m\u001b[39m\"\u001b[39m], args\u001b[39m=\u001b[39m(sol\u001b[39m.\u001b[39mx[\u001b[39m0\u001b[39m]))\n",
      "File \u001b[1;32mc:\\Users\\mab916\\AppData\\Local\\Programs\\Python\\Python311\\Lib\\site-packages\\scipy\\optimize\\_minimize.py:684\u001b[0m, in \u001b[0;36mminimize\u001b[1;34m(fun, x0, args, method, jac, hess, hessp, bounds, constraints, tol, callback, options)\u001b[0m\n\u001b[0;32m    680\u001b[0m                 \u001b[39mif\u001b[39;00m callable(con\u001b[39m.\u001b[39mget(\u001b[39m'\u001b[39m\u001b[39mjac\u001b[39m\u001b[39m'\u001b[39m, \u001b[39mNone\u001b[39;00m)):\n\u001b[0;32m    681\u001b[0m                     con[\u001b[39m'\u001b[39m\u001b[39mjac\u001b[39m\u001b[39m'\u001b[39m] \u001b[39m=\u001b[39m _remove_from_func(con[\u001b[39m'\u001b[39m\u001b[39mjac\u001b[39m\u001b[39m'\u001b[39m], i_fixed,\n\u001b[0;32m    682\u001b[0m                                                    x_fixed, min_dim\u001b[39m=\u001b[39m\u001b[39m2\u001b[39m,\n\u001b[0;32m    683\u001b[0m                                                    remove\u001b[39m=\u001b[39m\u001b[39m1\u001b[39m)\n\u001b[1;32m--> 684\u001b[0m     bounds \u001b[39m=\u001b[39m standardize_bounds(bounds, x0, meth)\n\u001b[0;32m    686\u001b[0m \u001b[39mif\u001b[39;00m meth \u001b[39m==\u001b[39m \u001b[39m'\u001b[39m\u001b[39mnelder-mead\u001b[39m\u001b[39m'\u001b[39m:\n\u001b[0;32m    687\u001b[0m     res \u001b[39m=\u001b[39m _minimize_neldermead(fun, x0, args, callback, bounds\u001b[39m=\u001b[39mbounds,\n\u001b[0;32m    688\u001b[0m                                \u001b[39m*\u001b[39m\u001b[39m*\u001b[39moptions)\n",
      "File \u001b[1;32mc:\\Users\\mab916\\AppData\\Local\\Programs\\Python\\Python311\\Lib\\site-packages\\scipy\\optimize\\_minimize.py:943\u001b[0m, in \u001b[0;36mstandardize_bounds\u001b[1;34m(bounds, x0, meth)\u001b[0m\n\u001b[0;32m    941\u001b[0m \u001b[39mif\u001b[39;00m meth \u001b[39min\u001b[39;00m {\u001b[39m'\u001b[39m\u001b[39mtrust-constr\u001b[39m\u001b[39m'\u001b[39m, \u001b[39m'\u001b[39m\u001b[39mpowell\u001b[39m\u001b[39m'\u001b[39m, \u001b[39m'\u001b[39m\u001b[39mnelder-mead\u001b[39m\u001b[39m'\u001b[39m, \u001b[39m'\u001b[39m\u001b[39mnew\u001b[39m\u001b[39m'\u001b[39m}:\n\u001b[0;32m    942\u001b[0m     \u001b[39mif\u001b[39;00m \u001b[39mnot\u001b[39;00m \u001b[39misinstance\u001b[39m(bounds, Bounds):\n\u001b[1;32m--> 943\u001b[0m         lb, ub \u001b[39m=\u001b[39m old_bound_to_new(bounds)\n\u001b[0;32m    944\u001b[0m         bounds \u001b[39m=\u001b[39m Bounds(lb, ub)\n\u001b[0;32m    945\u001b[0m \u001b[39melif\u001b[39;00m meth \u001b[39min\u001b[39;00m (\u001b[39m'\u001b[39m\u001b[39ml-bfgs-b\u001b[39m\u001b[39m'\u001b[39m, \u001b[39m'\u001b[39m\u001b[39mtnc\u001b[39m\u001b[39m'\u001b[39m, \u001b[39m'\u001b[39m\u001b[39mslsqp\u001b[39m\u001b[39m'\u001b[39m, \u001b[39m'\u001b[39m\u001b[39mold\u001b[39m\u001b[39m'\u001b[39m):\n",
      "File \u001b[1;32mc:\\Users\\mab916\\AppData\\Local\\Programs\\Python\\Python311\\Lib\\site-packages\\scipy\\optimize\\_constraints.py:415\u001b[0m, in \u001b[0;36mold_bound_to_new\u001b[1;34m(bounds)\u001b[0m\n\u001b[0;32m    406\u001b[0m \u001b[39mdef\u001b[39;00m \u001b[39mold_bound_to_new\u001b[39m(bounds):\n\u001b[0;32m    407\u001b[0m     \u001b[39m\"\"\"Convert the old bounds representation to the new one.\u001b[39;00m\n\u001b[0;32m    408\u001b[0m \n\u001b[0;32m    409\u001b[0m \u001b[39m    The new representation is a tuple (lb, ub) and the old one is a list\u001b[39;00m\n\u001b[1;32m   (...)\u001b[0m\n\u001b[0;32m    413\u001b[0m \u001b[39m    -np.inf/np.inf.\u001b[39;00m\n\u001b[0;32m    414\u001b[0m \u001b[39m    \"\"\"\u001b[39;00m\n\u001b[1;32m--> 415\u001b[0m     lb, ub \u001b[39m=\u001b[39m \u001b[39mzip\u001b[39;49m(\u001b[39m*\u001b[39;49mbounds)\n\u001b[0;32m    417\u001b[0m     \u001b[39m# Convert occurrences of None to -inf or inf, and replace occurrences of\u001b[39;00m\n\u001b[0;32m    418\u001b[0m     \u001b[39m# any numpy array x with x.item(). Then wrap the results in numpy arrays.\u001b[39;00m\n\u001b[0;32m    419\u001b[0m     lb \u001b[39m=\u001b[39m np\u001b[39m.\u001b[39marray([\u001b[39mfloat\u001b[39m(_arr_to_scalar(x)) \u001b[39mif\u001b[39;00m x \u001b[39mis\u001b[39;00m \u001b[39mnot\u001b[39;00m \u001b[39mNone\u001b[39;00m \u001b[39melse\u001b[39;00m \u001b[39m-\u001b[39mnp\u001b[39m.\u001b[39minf\n\u001b[0;32m    420\u001b[0m                    \u001b[39mfor\u001b[39;00m x \u001b[39min\u001b[39;00m lb])\n",
      "\u001b[1;31mTypeError\u001b[0m: 'int' object is not iterable"
     ]
    }
   ],
   "source": [
    "import numpy as np\n",
    "from matplotlib import pyplot as plt\n",
    "import pandas as pd\n",
    "from scipy.integrate import odeint\n",
    "from scipy.optimize import minimize\n",
    "from scipy.optimize import Bounds\n",
    "from plotdf import plotdf\n",
    "\n",
    "data = pd.read_excel('data.xlsx')\n",
    "\n",
    "time = np.linspace(1, 24, 24)\n",
    "hbin = 2.344E-6\n",
    "hpin = hbin\n",
    "hpx = [1, 24]\n",
    "hpy = [hpin, 0]\n",
    "ic = (0, 0, hpin)\n",
    "ac = (1E-5)\n",
    "s=1.38476998e-05\n",
    "mu=6.86142089e+00\n",
    "\n",
    "def func(x, kr):\n",
    "    dB = - kr * x[0] * x[1] + s/((((x[0]-mu)**2)+1)**(3/2))\n",
    "    dC = s/((((x[0]-mu)**2)+1)**(3/2))\n",
    "    dP = - kr * x[0] * x[1]\n",
    "    return(dB, dC, dP)\n",
    "\n",
    "def err(params):\n",
    "    kr = params\n",
    "    ODEoutputB = odeint(func, ic, time, args = (kr))\n",
    "    ODEoutputP = odeint(func, ic, hpx, args = (kr))\n",
    "    errB = (ODEoutputB[:,0] - data[\"hpadj mol/dL\"])**2\n",
    "    errP = (ODEoutputP[:,1] - hpy)**2\n",
    "    errC = (ODEoutputB[:,2] - data[\"cadj mol/dL\"])**2\n",
    "    return (np.sum(errB) + np.sum(errC) + np.sum(errP))\n",
    "\n",
    "bounds = ([0, 10E100])\n",
    "sol = minimize(err, x0 = ac, bounds = bounds, method = \"Nelder-Mead\")\n",
    "print(sol)\n",
    "\n",
    "fitdata = odeint(func, ic, data[\"time\"], args=(sol.x[0]))\n",
    "plt.scatter(data[\"time\"], data['hpadj mol/dL'], label = \"Experimental data - hemoglobin\")\n",
    "plt.scatter(data[\"time\"], data['cadj mol/dL'], label = \"Experimental data - hemoglobin - control group\")\n",
    "plt.scatter(hpx, hpy, label = \"Assumed values - haptoglobin\")\n",
    "plt.plot(data[\"time\"], fitdata[:,0], label = \"Estimated hemoglobin\")\n",
    "plt.plot(data[\"time\"], fitdata[:,2], label = \"Estimated hemoglobin - control group\")\n",
    "plt.plot(data[\"time\"], fitdata[:,1], label = \"Estimated haptoglobin\")\n",
    "plt.xlabel(\"Time (min)\")\n",
    "plt.ylabel(\"Concentration (mol/dL)\")\n",
    "plt.legend()"
   ]
  },
  {
   "cell_type": "code",
   "execution_count": null,
   "metadata": {},
   "outputs": [],
   "source": [
    "# plotdf(func, # Function giving the rhs of the diff. eq. system\n",
    "#      np.array([0,200]), # [xmin,xmax]\n",
    "#      np.array([0,200]),# [ymin,ymax]\n",
    "#      [(0,150)], # list of initial values for trajectories (optional)\n",
    "#      # Additional parameters for `f` (optional)\n",
    "#      parameters={\"GB\":50,\"kr\":0.3,\"GP\":0.01},\n",
    "#      gridsteps=20,\n",
    "#      nsteps = 10000,\n",
    "#      tmax=20)\n",
    "\n",
    "# plt.xlabel(\"B, concentration of hemoglobin (g/dL)\")\n",
    "# plt.ylabel(\"P, concentration of haptoglobin (g/dL)\")"
   ]
  }
 ],
 "metadata": {
  "kernelspec": {
   "display_name": "Python 3.11.0 64-bit",
   "language": "python",
   "name": "python3"
  },
  "language_info": {
   "codemirror_mode": {
    "name": "ipython",
    "version": 3
   },
   "file_extension": ".py",
   "mimetype": "text/x-python",
   "name": "python",
   "nbconvert_exporter": "python",
   "pygments_lexer": "ipython3",
   "version": "3.11.0"
  },
  "orig_nbformat": 4,
  "vscode": {
   "interpreter": {
    "hash": "04330bf2858354101819f49b7d1c91f561129b3f717cac6b146f76ea5386f2d1"
   }
  }
 },
 "nbformat": 4,
 "nbformat_minor": 2
}
