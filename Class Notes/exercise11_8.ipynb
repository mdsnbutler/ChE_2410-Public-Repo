{
 "cells": [
  {
   "cell_type": "code",
   "execution_count": 4,
   "metadata": {},
   "outputs": [
    {
     "ename": "ModuleNotFoundError",
     "evalue": "No module named 'plotdf'",
     "output_type": "error",
     "traceback": [
      "\u001b[1;31m---------------------------------------------------------------------------\u001b[0m",
      "\u001b[1;31mModuleNotFoundError\u001b[0m                       Traceback (most recent call last)",
      "\u001b[1;32mc:\\Users\\mdsnb\\OneDrive\\Documents\\GitHub\\ChE_2410_Math\\Class Notes\\exercise11_8.ipynb Cell 1\u001b[0m in \u001b[0;36m<cell line: 8>\u001b[1;34m()\u001b[0m\n\u001b[0;32m      <a href='vscode-notebook-cell:/c%3A/Users/mdsnb/OneDrive/Documents/GitHub/ChE_2410_Math/Class%20Notes/exercise11_8.ipynb#W1sZmlsZQ%3D%3D?line=4'>5</a>\u001b[0m get_ipython()\u001b[39m.\u001b[39mrun_line_magic(\u001b[39m'\u001b[39m\u001b[39mmatplotlib\u001b[39m\u001b[39m'\u001b[39m, \u001b[39m'\u001b[39m\u001b[39minline\u001b[39m\u001b[39m'\u001b[39m)\n\u001b[0;32m      <a href='vscode-notebook-cell:/c%3A/Users/mdsnb/OneDrive/Documents/GitHub/ChE_2410_Math/Class%20Notes/exercise11_8.ipynb#W1sZmlsZQ%3D%3D?line=6'>7</a>\u001b[0m \u001b[39mfrom\u001b[39;00m \u001b[39mmath\u001b[39;00m \u001b[39mimport\u001b[39;00m sin\n\u001b[1;32m----> <a href='vscode-notebook-cell:/c%3A/Users/mdsnb/OneDrive/Documents/GitHub/ChE_2410_Math/Class%20Notes/exercise11_8.ipynb#W1sZmlsZQ%3D%3D?line=7'>8</a>\u001b[0m \u001b[39mfrom\u001b[39;00m \u001b[39mplotdf\u001b[39;00m \u001b[39mimport\u001b[39;00m plotdf\n\u001b[0;32m     <a href='vscode-notebook-cell:/c%3A/Users/mdsnb/OneDrive/Documents/GitHub/ChE_2410_Math/Class%20Notes/exercise11_8.ipynb#W1sZmlsZQ%3D%3D?line=9'>10</a>\u001b[0m \u001b[39mdef\u001b[39;00m \u001b[39mf\u001b[39m(R, J,a\u001b[39m=\u001b[39m \u001b[39m-\u001b[39m\u001b[39m2\u001b[39m,b\u001b[39m=\u001b[39m \u001b[39m3\u001b[39m):\n\u001b[0;32m     <a href='vscode-notebook-cell:/c%3A/Users/mdsnb/OneDrive/Documents/GitHub/ChE_2410_Math/Class%20Notes/exercise11_8.ipynb#W1sZmlsZQ%3D%3D?line=10'>11</a>\u001b[0m     dR \u001b[39m=\u001b[39m a\u001b[39m*\u001b[39mR \u001b[39m+\u001b[39m b\u001b[39m*\u001b[39mJ\n",
      "\u001b[1;31mModuleNotFoundError\u001b[0m: No module named 'plotdf'"
     ]
    }
   ],
   "source": [
    "import numpy as np\n",
    "import matplotlib_inline as plt\n",
    "import scipy\n",
    "pip install plotdf\n",
    "\n",
    "%matplotlib inline\n",
    "\n",
    "from math import sin\n",
    "from plotdf import plotdf\n",
    "\n",
    "a = -2\n",
    "b = 3\n",
    "  \n",
    "def f(v, t):\n",
    "    R = v[0]\n",
    "    J = v[1]\n",
    "    return [a*R+b*J, b*R+a*J]\n",
    "\n",
    "plotdf(f, # Function giving the rhs of the diff. eq. system\n",
    "     np.array([-10,2]), # [xmin,xmax]\n",
    "     np.array([-14,14]),# [ymin,ymax]\n",
    "     [(0,0)], # list of initial values for trajectories (optional)\n",
    "     # Additional parameters for `f` (optional)\n",
    "     gridsteps=20,\n",
    "     nsteps = 1000,\n",
    "    tmax=20)\n",
    "\n",
    "np.linalg.eig(np.array([a, b], [b, a]))\n",
    "\n",
    "plt.xlabel(\"x\")\n",
    "plt.ylabel(\"y\")"
   ]
  }
 ],
 "metadata": {
  "kernelspec": {
   "display_name": "Python 3.9.12 ('base')",
   "language": "python",
   "name": "python3"
  },
  "language_info": {
   "codemirror_mode": {
    "name": "ipython",
    "version": 3
   },
   "file_extension": ".py",
   "mimetype": "text/x-python",
   "name": "python",
   "nbconvert_exporter": "python",
   "pygments_lexer": "ipython3",
   "version": "3.9.12"
  },
  "orig_nbformat": 4,
  "vscode": {
   "interpreter": {
    "hash": "3ea7c28dc7569e024bd9f57d5fd933e532fb588a53e331ae301b88ac3d4d46d7"
   }
  }
 },
 "nbformat": 4,
 "nbformat_minor": 2
}
