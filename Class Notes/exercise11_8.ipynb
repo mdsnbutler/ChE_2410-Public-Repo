{
 "cells": [
  {
   "cell_type": "code",
   "execution_count": 19,
   "metadata": {},
   "outputs": [
    {
     "name": "stdout",
     "output_type": "stream",
     "text": [
      "(array([ 1., -5.]), array([[ 0.70710678, -0.70710678],\n",
      "       [ 0.70710678,  0.70710678]]))\n",
      "(array([-1., -5.]), array([[ 0.70710678, -0.70710678],\n",
      "       [ 0.70710678,  0.70710678]]))\n"
     ]
    }
   ],
   "source": [
    "import numpy as np\n",
    "import matplotlib_inline as plt\n",
    "from plotdf import plotdf\n",
    "from numpy import linalg as LA\n",
    "\n",
    "a = -2\n",
    "b = 3\n",
    "  \n",
    "# def f(v):\n",
    "#     R = v[0]\n",
    "#     J = v[1]\n",
    "#     return [a*R+b*J, b*R+a*J]\n",
    "\n",
    "# plotdf(f,\n",
    "#      np.array([-10,10]),\n",
    "#      np.array([-14,14]),\n",
    "#      [(0,0)],\n",
    "#      gridsteps=20,\n",
    "#      nsteps = 1000,\n",
    "#      tmax=20)\n",
    "     \n",
    "c = np.array([[a, b], [b, a]])\n",
    "print(LA.eig(c))\n",
    "\n",
    "a = -3\n",
    "b = 2\n",
    "c = np.array([[a, b], [b, a]])\n",
    "print(LA.eig(c))"
   ]
  }
 ],
 "metadata": {
  "kernelspec": {
   "display_name": "Python 3.9.12 ('base')",
   "language": "python",
   "name": "python3"
  },
  "language_info": {
   "codemirror_mode": {
    "name": "ipython",
    "version": 3
   },
   "file_extension": ".py",
   "mimetype": "text/x-python",
   "name": "python",
   "nbconvert_exporter": "python",
   "pygments_lexer": "ipython3",
   "version": "3.9.12"
  },
  "orig_nbformat": 4,
  "vscode": {
   "interpreter": {
    "hash": "3ea7c28dc7569e024bd9f57d5fd933e532fb588a53e331ae301b88ac3d4d46d7"
   }
  }
 },
 "nbformat": 4,
 "nbformat_minor": 2
}
