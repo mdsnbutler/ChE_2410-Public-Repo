{
 "cells": [
  {
   "cell_type": "markdown",
   "metadata": {},
   "source": [
    "Stats summary\n",
    "1. Given a distribution, you can find the likelihood of observing a value equal or greater to a single measurement\n",
    "    a. Null distribution has to be known\n",
    "    b. Null distribution is the expected range of a given number\n",
    "    c. P values are odds of observing some range of values in the population\n",
    "\n",
    "We're in the 33rd percentile of income as grad students\n",
    "\n",
    "1. For t tests, U tests, we are asking a fundamentally different question\n",
    "    a. Does my data come from a specific population\n",
    "        i. Did my data come from a normal population with a mean of mu?\n",
    "    b. Or do my two sets of data come from the same population\n",
    "\n",
    "2. Can you just calculate p value for each measurement and average them?\n",
    "    a. What would that mean?\n",
    "\n",
    "Don't make a normal distribution assumption without good reason\n",
    "\n",
    "U scores don't assume a normal distribution\n",
    "\n",
    "U score is a \"non-parametric test\"\n",
    "\n",
    "U scores don't care about magnitude of difference, just whether the samples are \"greater\" than others\n",
    "\n",
    "Don't average p values, doesn't make sense\n",
    "\n",
    "T test is popular because it has nice mathematical properties (independent from mean, stdev when parametized)\n",
    "\n",
    "Did hw p1 wrong, 2 sample and 1 sample t test with the same DOF should have the same density plot\n",
    "\n",
    "All t tests with identical DOF have the same null distributions\n",
    "\n",
    "Sample size of 30 usually produces a normal distribution from any population - central limit theorem\n",
    "\n",
    "~Starting new subject: parameter free or non parameter tests~\n",
    "\n",
    "Wilcoxon rank-sum test:\n",
    "\n",
    "U is number of wins between two competing datasets.\n",
    "\n",
    "Count 0.5 for any ties\n",
    "\n",
    "Sum of wins and ties is the U for the dataset\n",
    "\n",
    "Jason: 100, 55, 50 Bob: 90, 80, 60\n",
    "\n",
    "Order from highest two lowest, calculate number of \"wins\" for each observation\n",
    "\n",
    "Jason U = 3, Bob U = 6\n",
    "\n",
    "Need a null distribution now\n",
    "\n",
    "He's just going through U null distributions\n",
    "\n",
    "Didn't remove permutations that didn't make sense from hw5... more points lost. shit.\n",
    "\n",
    "Packages will assume at higher ns that a normal distribution is being observed\n",
    "\n",
    "U won't have good p values for small ns\n",
    "\n",
    "Project 1 details:\n",
    "\n",
    "    - Use regression tools to analyze covid 19 data\n",
    "    - Coding, a presentation, and a Q&A\n",
    "    - Using county-level data, we develop questions you're interested in\n",
    "    - NYtimes has a github for the data\n",
    "    - census.gov has a ton of measurements for every county\n",
    "        - public transportation usage and covid?\n",
    "        - control for types of jobs?\n",
    "        - control for population/any other metric of \n",
    "    - you must consider at least two factors when developing the question\n",
    "    - 2 simple comparisons (t tests or U)\n",
    "    - 1 linear regression analysis or similar\n",
    "    - be clear about assumptions and limitations\n",
    "    - due date October 25th\n",
    "    - 10 minutes long, 1-2 follow up questions\n",
    "    - get data before next class! start cleaning it up"
   ]
  },
  {
   "cell_type": "code",
   "execution_count": 5,
   "metadata": {},
   "outputs": [
    {
     "name": "stdout",
     "output_type": "stream",
     "text": [
      "0.35 via direct calculation 0.35 via mannwhitney u test\n"
     ]
    }
   ],
   "source": [
    "from scipy.stats import mannwhitneyu\n",
    "\n",
    "a = [10, 1, 3]\n",
    "b = [4, 5, 6]\n",
    "\n",
    "pvalue = 7/20\n",
    "\n",
    "U1, p = mannwhitneyu(a, b, alternative = \"less\")\n",
    "\n",
    "print(pvalue,\"via direct calculation\",p,\"via mannwhitney u test\")"
   ]
  }
 ],
 "metadata": {
  "kernelspec": {
   "display_name": "Python 3.9.12 ('base')",
   "language": "python",
   "name": "python3"
  },
  "language_info": {
   "codemirror_mode": {
    "name": "ipython",
    "version": 3
   },
   "file_extension": ".py",
   "mimetype": "text/x-python",
   "name": "python",
   "nbconvert_exporter": "python",
   "pygments_lexer": "ipython3",
   "version": "3.9.12"
  },
  "orig_nbformat": 4,
  "vscode": {
   "interpreter": {
    "hash": "3ea7c28dc7569e024bd9f57d5fd933e532fb588a53e331ae301b88ac3d4d46d7"
   }
  }
 },
 "nbformat": 4,
 "nbformat_minor": 2
}
