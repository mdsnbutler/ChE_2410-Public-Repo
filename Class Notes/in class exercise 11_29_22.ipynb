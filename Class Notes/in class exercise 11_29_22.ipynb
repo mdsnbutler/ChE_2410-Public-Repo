{
 "cells": [
  {
   "cell_type": "markdown",
   "metadata": {},
   "source": [
    "Apologies I can't get ODEint to work the way I want it to. The Forward Euler approach works however."
   ]
  },
  {
   "cell_type": "code",
   "execution_count": 6,
   "metadata": {},
   "outputs": [
    {
     "ename": "TypeError",
     "evalue": "func() missing 1 required positional argument: 't'",
     "output_type": "error",
     "traceback": [
      "\u001b[1;31m---------------------------------------------------------------------------\u001b[0m",
      "\u001b[1;31mTypeError\u001b[0m                                 Traceback (most recent call last)",
      "Cell \u001b[1;32mIn [6], line 22\u001b[0m\n\u001b[0;32m     20\u001b[0m \u001b[39mfor\u001b[39;00m i \u001b[39min\u001b[39;00m \u001b[39mrange\u001b[39m(num):\n\u001b[0;32m     21\u001b[0m     t \u001b[39m=\u001b[39m t \u001b[39m+\u001b[39m h\n\u001b[1;32m---> 22\u001b[0m     ynew \u001b[39m=\u001b[39m yold \u001b[39m+\u001b[39m func([xold, yold])[\u001b[39m1\u001b[39m]\u001b[39m*\u001b[39mh\n\u001b[0;32m     23\u001b[0m     xnew \u001b[39m=\u001b[39m xold \u001b[39m+\u001b[39m func([xold, yold])[\u001b[39m0\u001b[39m]\u001b[39m*\u001b[39mh\n\u001b[0;32m     24\u001b[0m     tvals[i] \u001b[39m=\u001b[39m t\n",
      "\u001b[1;31mTypeError\u001b[0m: func() missing 1 required positional argument: 't'"
     ]
    }
   ],
   "source": [
    "from scipy.integrate import odeint\n",
    "from matplotlib import pyplot as plt\n",
    "import numpy as np\n",
    "\n",
    "num = 100\n",
    "h = .1\n",
    "yold = 5\n",
    "xold = 3\n",
    "t = 0\n",
    "tvals = np.zeros(num)\n",
    "yvals = np.zeros(num)\n",
    "xvals = np.zeros(num)\n",
    "yvals[0] = 5\n",
    "xvals[0] = 3\n",
    "\n",
    "def func(v, t):\n",
    "    x, y = v\n",
    "    return np.array([-x-y, x-y])\n",
    "\n",
    "for i in range(num):\n",
    "    t = t + h\n",
    "    ynew = yold + func([xold, yold], t)[1]*h\n",
    "    xnew = xold + func([xold, yold], t)[0]*h\n",
    "    tvals[i] = t\n",
    "    yvals[i] = ynew\n",
    "    xvals[i] = xnew\n",
    "    yold = ynew\n",
    "\n",
    "plt.plot(tvals, yvals)\n",
    "#ODEoutput = odeint(func, y0 = 5, t = tvals)"
   ]
  },
  {
   "cell_type": "code",
   "execution_count": 7,
   "metadata": {},
   "outputs": [
    {
     "ename": "TypeError",
     "evalue": "func() missing 1 required positional argument: 't'",
     "output_type": "error",
     "traceback": [
      "\u001b[1;31m---------------------------------------------------------------------------\u001b[0m",
      "\u001b[1;31mTypeError\u001b[0m                                 Traceback (most recent call last)",
      "Cell \u001b[1;32mIn [7], line 12\u001b[0m\n\u001b[0;32m     10\u001b[0m \u001b[39mfor\u001b[39;00m m \u001b[39min\u001b[39;00m np\u001b[39m.\u001b[39marange(\u001b[39m1\u001b[39m, num, \u001b[39m1\u001b[39m):\n\u001b[0;32m     11\u001b[0m     time[m] \u001b[39m=\u001b[39m time[m\u001b[39m-\u001b[39m\u001b[39m1\u001b[39m]\u001b[39m+\u001b[39mh\n\u001b[1;32m---> 12\u001b[0m     output[m] \u001b[39m=\u001b[39m fsolve(back, output[m\u001b[39m-\u001b[39m\u001b[39m1\u001b[39m], args \u001b[39m=\u001b[39m m)\n\u001b[0;32m     14\u001b[0m plt\u001b[39m.\u001b[39mrcParams\u001b[39m.\u001b[39mupdate({\u001b[39m'\u001b[39m\u001b[39mfont.size\u001b[39m\u001b[39m'\u001b[39m:\u001b[39m14\u001b[39m})\n\u001b[0;32m     15\u001b[0m plt\u001b[39m.\u001b[39mxlabel(\u001b[39m\"\u001b[39m\u001b[39mtime\u001b[39m\u001b[39m\"\u001b[39m)\n",
      "File \u001b[1;32mc:\\Users\\mdsnb\\AppData\\Local\\Programs\\Python\\Python310\\lib\\site-packages\\scipy\\optimize\\_minpack_py.py:160\u001b[0m, in \u001b[0;36mfsolve\u001b[1;34m(func, x0, args, fprime, full_output, col_deriv, xtol, maxfev, band, epsfcn, factor, diag)\u001b[0m\n\u001b[0;32m     49\u001b[0m \u001b[39m\"\"\"\u001b[39;00m\n\u001b[0;32m     50\u001b[0m \u001b[39mFind the roots of a function.\u001b[39;00m\n\u001b[0;32m     51\u001b[0m \n\u001b[1;32m   (...)\u001b[0m\n\u001b[0;32m    150\u001b[0m \n\u001b[0;32m    151\u001b[0m \u001b[39m\"\"\"\u001b[39;00m\n\u001b[0;32m    152\u001b[0m options \u001b[39m=\u001b[39m {\u001b[39m'\u001b[39m\u001b[39mcol_deriv\u001b[39m\u001b[39m'\u001b[39m: col_deriv,\n\u001b[0;32m    153\u001b[0m            \u001b[39m'\u001b[39m\u001b[39mxtol\u001b[39m\u001b[39m'\u001b[39m: xtol,\n\u001b[0;32m    154\u001b[0m            \u001b[39m'\u001b[39m\u001b[39mmaxfev\u001b[39m\u001b[39m'\u001b[39m: maxfev,\n\u001b[1;32m   (...)\u001b[0m\n\u001b[0;32m    157\u001b[0m            \u001b[39m'\u001b[39m\u001b[39mfactor\u001b[39m\u001b[39m'\u001b[39m: factor,\n\u001b[0;32m    158\u001b[0m            \u001b[39m'\u001b[39m\u001b[39mdiag\u001b[39m\u001b[39m'\u001b[39m: diag}\n\u001b[1;32m--> 160\u001b[0m res \u001b[39m=\u001b[39m _root_hybr(func, x0, args, jac\u001b[39m=\u001b[39mfprime, \u001b[39m*\u001b[39m\u001b[39m*\u001b[39moptions)\n\u001b[0;32m    161\u001b[0m \u001b[39mif\u001b[39;00m full_output:\n\u001b[0;32m    162\u001b[0m     x \u001b[39m=\u001b[39m res[\u001b[39m'\u001b[39m\u001b[39mx\u001b[39m\u001b[39m'\u001b[39m]\n",
      "File \u001b[1;32mc:\\Users\\mdsnb\\AppData\\Local\\Programs\\Python\\Python310\\lib\\site-packages\\scipy\\optimize\\_minpack_py.py:226\u001b[0m, in \u001b[0;36m_root_hybr\u001b[1;34m(func, x0, args, jac, col_deriv, xtol, maxfev, band, eps, factor, diag, **unknown_options)\u001b[0m\n\u001b[0;32m    224\u001b[0m \u001b[39mif\u001b[39;00m \u001b[39mnot\u001b[39;00m \u001b[39misinstance\u001b[39m(args, \u001b[39mtuple\u001b[39m):\n\u001b[0;32m    225\u001b[0m     args \u001b[39m=\u001b[39m (args,)\n\u001b[1;32m--> 226\u001b[0m shape, dtype \u001b[39m=\u001b[39m _check_func(\u001b[39m'\u001b[39;49m\u001b[39mfsolve\u001b[39;49m\u001b[39m'\u001b[39;49m, \u001b[39m'\u001b[39;49m\u001b[39mfunc\u001b[39;49m\u001b[39m'\u001b[39;49m, func, x0, args, n, (n,))\n\u001b[0;32m    227\u001b[0m \u001b[39mif\u001b[39;00m epsfcn \u001b[39mis\u001b[39;00m \u001b[39mNone\u001b[39;00m:\n\u001b[0;32m    228\u001b[0m     epsfcn \u001b[39m=\u001b[39m finfo(dtype)\u001b[39m.\u001b[39meps\n",
      "File \u001b[1;32mc:\\Users\\mdsnb\\AppData\\Local\\Programs\\Python\\Python310\\lib\\site-packages\\scipy\\optimize\\_minpack_py.py:24\u001b[0m, in \u001b[0;36m_check_func\u001b[1;34m(checker, argname, thefunc, x0, args, numinputs, output_shape)\u001b[0m\n\u001b[0;32m     22\u001b[0m \u001b[39mdef\u001b[39;00m \u001b[39m_check_func\u001b[39m(checker, argname, thefunc, x0, args, numinputs,\n\u001b[0;32m     23\u001b[0m                 output_shape\u001b[39m=\u001b[39m\u001b[39mNone\u001b[39;00m):\n\u001b[1;32m---> 24\u001b[0m     res \u001b[39m=\u001b[39m atleast_1d(thefunc(\u001b[39m*\u001b[39;49m((x0[:numinputs],) \u001b[39m+\u001b[39;49m args)))\n\u001b[0;32m     25\u001b[0m     \u001b[39mif\u001b[39;00m (output_shape \u001b[39mis\u001b[39;00m \u001b[39mnot\u001b[39;00m \u001b[39mNone\u001b[39;00m) \u001b[39mand\u001b[39;00m (shape(res) \u001b[39m!=\u001b[39m output_shape):\n\u001b[0;32m     26\u001b[0m         \u001b[39mif\u001b[39;00m (output_shape[\u001b[39m0\u001b[39m] \u001b[39m!=\u001b[39m \u001b[39m1\u001b[39m):\n",
      "Cell \u001b[1;32mIn [7], line 6\u001b[0m, in \u001b[0;36mback\u001b[1;34m(y, m)\u001b[0m\n\u001b[0;32m      5\u001b[0m \u001b[39mdef\u001b[39;00m \u001b[39mback\u001b[39m(y, m):\n\u001b[1;32m----> 6\u001b[0m     \u001b[39mreturn\u001b[39;00m y\u001b[39m-\u001b[39moutput[m\u001b[39m-\u001b[39m\u001b[39m1\u001b[39m]\u001b[39m-\u001b[39mh\u001b[39m*\u001b[39mfunc(y)\n",
      "\u001b[1;31mTypeError\u001b[0m: func() missing 1 required positional argument: 't'"
     ]
    }
   ],
   "source": [
    "time = np.zeros(num)\n",
    "output = np.zeros((num,2))\n",
    "output[0] = [3,5]\n",
    "\n",
    "def back(y, m):\n",
    "    return y-output[m-1]-h*func(y, m)\n",
    "\n",
    "from scipy.optimize import fsolve\n",
    "\n",
    "for m in np.arange(1, num, 1):\n",
    "    time[m] = time[m-1]+h\n",
    "    output[m] = fsolve(back, output[m-1], args = m)\n",
    "\n",
    "plt.rcParams.update({'font.size':14})\n",
    "plt.xlabel(\"time\")\n",
    "plt.ylabel(\"x/y\")\n",
    "plt.plot(time, output)"
   ]
  }
 ],
 "metadata": {
  "kernelspec": {
   "display_name": "Python 3.10.7 64-bit",
   "language": "python",
   "name": "python3"
  },
  "language_info": {
   "codemirror_mode": {
    "name": "ipython",
    "version": 3
   },
   "file_extension": ".py",
   "mimetype": "text/x-python",
   "name": "python",
   "nbconvert_exporter": "python",
   "pygments_lexer": "ipython3",
   "version": "3.10.7"
  },
  "orig_nbformat": 4,
  "vscode": {
   "interpreter": {
    "hash": "988f502a8e40c072c215100f993095fb96203580ff3ed8e0339bfe3b39ce3ddb"
   }
  }
 },
 "nbformat": 4,
 "nbformat_minor": 2
}
