{
 "cells": [
  {
   "cell_type": "markdown",
   "metadata": {},
   "source": [
    "- Can weigh error values by dividing by average value that original function tends to be around (Favg works maybe)\n",
    "- Uploaded some solutions to previous homework problems\n",
    "- t tests that produce datasets of t values are called null distributions\n",
    "- mean or standard deviation don't have impact on null t distribution\n",
    "\n",
    "Two-sample t tests\n",
    "- for testing that two populations have the same mean\n",
    "- can do for similar or different stdev\n",
    "- ddof for single sample vs two sample are the same\n",
    "- Two main kinds of two sample t tests\n",
    "    - Independent - no relationship between two populations\n",
    "    - Paired - relationship between datasets\n",
    "        - when perhaps the same people are being sampled on two different things, producing two sample populations that are connected to each other\n"
   ]
  },
  {
   "cell_type": "code",
   "execution_count": 3,
   "metadata": {},
   "outputs": [
    {
     "name": "stdout",
     "output_type": "stream",
     "text": [
      "Via stats ttest we find Ttest_indResult(statistic=2.1679391976356874, pvalue=0.0644050922932436) and by linear regression we find                             OLS Regression Results                            \n",
      "==============================================================================\n",
      "Dep. Variable:                      y   R-squared:                       0.370\n",
      "Model:                            OLS   Adj. R-squared:                  0.291\n",
      "Method:                 Least Squares   F-statistic:                     4.700\n",
      "Date:                Tue, 27 Sep 2022   Prob (F-statistic):             0.0620\n",
      "Time:                        16:41:16   Log-Likelihood:                -37.261\n",
      "No. Observations:                  10   AIC:                             78.52\n",
      "Df Residuals:                       8   BIC:                             79.13\n",
      "Df Model:                           1                                         \n",
      "Covariance Type:            nonrobust                                         \n",
      "==============================================================================\n",
      "                 coef    std err          t      P>|t|      [0.025      0.975]\n",
      "------------------------------------------------------------------------------\n",
      "const        198.6000      5.023     39.539      0.000     187.017     210.183\n",
      "x1            15.4000      7.104      2.168      0.062      -0.981      31.781\n",
      "==============================================================================\n",
      "Omnibus:                        1.804   Durbin-Watson:                   2.175\n",
      "Prob(Omnibus):                  0.406   Jarque-Bera (JB):                0.851\n",
      "Skew:                           0.700   Prob(JB):                        0.654\n",
      "Kurtosis:                       2.713   Cond. No.                         2.62\n",
      "==============================================================================\n",
      "\n",
      "Notes:\n",
      "[1] Standard Errors assume that the covariance matrix of the errors is correctly specified.\n"
     ]
    }
   ],
   "source": [
    "import scipy.stats as stats\n",
    "import statsmodels.api as sm\n",
    "import numpy as np\n",
    "\n",
    "l = [200, 210, 220, 225, 215]\n",
    "h = [190, 220, 193, 200, 190]\n",
    "\n",
    "#direct t test\n",
    "ttestdirect = stats.ttest_ind(l, h, equal_var = False, alternative = 'two-sided')\n",
    "\n",
    "#via linear regression\n",
    "y = np.concatenate([l, h])\n",
    "x = [1, 1, 1, 1, 1, 0, 0, 0, 0, 0]\n",
    "x = sm.add_constant(x)\n",
    "model = sm.OLS(y, x).fit()\n",
    "\n",
    "#print t test\n",
    "print(\"Via stats ttest we find\", ttestdirect, \"and by linear regression we find\", model.summary())"
   ]
  },
  {
   "cell_type": "markdown",
   "metadata": {},
   "source": []
  }
 ],
 "metadata": {
  "kernelspec": {
   "display_name": "Python 3.9.12 ('base')",
   "language": "python",
   "name": "python3"
  },
  "language_info": {
   "codemirror_mode": {
    "name": "ipython",
    "version": 3
   },
   "file_extension": ".py",
   "mimetype": "text/x-python",
   "name": "python",
   "nbconvert_exporter": "python",
   "pygments_lexer": "ipython3",
   "version": "3.9.12"
  },
  "orig_nbformat": 4,
  "vscode": {
   "interpreter": {
    "hash": "3ea7c28dc7569e024bd9f57d5fd933e532fb588a53e331ae301b88ac3d4d46d7"
   }
  }
 },
 "nbformat": 4,
 "nbformat_minor": 2
}
