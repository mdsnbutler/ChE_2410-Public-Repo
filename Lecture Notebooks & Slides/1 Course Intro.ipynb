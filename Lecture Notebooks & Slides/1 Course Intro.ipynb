{
 "cells": [
  {
   "cell_type": "markdown",
   "id": "84f6daa5",
   "metadata": {
    "id": "dd4671f1",
    "slideshow": {
     "slide_type": "slide"
    }
   },
   "source": [
    "# Why are we wasting our time in this class and not in the lab?\n",
    "\n",
    "As engineers/scientists, we need to understand\n",
    "1. Simulators and models\n",
    "    1. How well can we trust our \"equipment\"\n",
    "    2. Under what conditions can it be used\n",
    "    3. Under what conditions can it not be used\n",
    "2. Data\n",
    "   1. Its reliability/repeatability and ultimate worth\n",
    "   2. How to apply and interpret basic statistics to data\n",
    "   3. How statistics relates to modeling\n",
    "3. Interpreting model performance with data\n",
    "    1. Goodness of fit\n",
    "    2. Performance relative to competing models\n",
    "    3. Independent validation\n",
    "4. Being Critical\n",
    "    1. **BEING PUBLISHED DOESN'T MEAN BEING RIGHT**\n",
    "    2. Able to defend/critique model performance\n"
   ]
  },
  {
   "cell_type": "markdown",
   "id": "4c7656b9",
   "metadata": {
    "id": "336e7cc5",
    "slideshow": {
     "slide_type": "slide"
    }
   },
   "source": [
    "# Motivating example (that we'll see a few times)\n",
    "\n",
    "\n",
    "We tend to believe that anything can be simulated. As long as someone can develop the equations and knows some very basic coding skills, they can throw the equations into MATLAB, Python, R, Julia or whatever and get an answer.\n",
    "\n",
    "What I want you all to be aware of from the get-go is that this is a complete fallacy. Simulators, such as ODE \"solvers\", can only approximate solutions. And in many scenarios - they completely fall apart.\n",
    "\n",
    "\\begin{align}\n",
    "& \\dot{y} = y - sin(t) - cos(t)\\\\\n",
    "& y(t=0) = 1\\\\\n",
    "\\end{align}\n",
    "\n",
    "First comment on this system: it's super simple. This is such a small equation, a system engineer/computational biologist will never find themselves analyzing something this small/easy. \n",
    "\n",
    "Seriously - **I wish our work was this easy.**\n",
    "\n",
    "I do want to use this equation a few times in the future, but things I will tell you now:\n",
    "1. The value if bound between 0 and 1 for all time (will prove later).\n",
    "2. This can be solved by hand\n",
    "\n",
    "Below, I provide the code to correctly simulate this very simple, first order system in Python. \n",
    "\n",
    "Example courtesy of http://www.math.umd.edu/~petersd/460/html/stableODEex.html.\n"
   ]
  },
  {
   "cell_type": "code",
   "execution_count": 1,
   "id": "b90680ad",
   "metadata": {
    "cellView": "form",
    "colab": {
     "base_uri": "https://localhost:8080/",
     "height": 287
    },
    "executionInfo": {
     "elapsed": 494,
     "status": "ok",
     "timestamp": 1629985630139,
     "user": {
      "displayName": "Jason Shoemaker",
      "photoUrl": "",
      "userId": "09936874856589552694"
     },
     "user_tz": 240
    },
    "id": "2245ed3e",
    "outputId": "9a0b5869-9c7a-4839-9a36-d98b8ee983ac",
    "slideshow": {
     "slide_type": "slide"
    }
   },
   "outputs": [
    {
     "data": {
      "image/png": "[encoded data removed]",
      "text/plain": [
       "<Figure size 432x288 with 1 Axes>"
      ]
     },
     "metadata": {
      "needs_background": "light"
     },
     "output_type": "display_data"
    }
   ],
   "source": [
    "#@title\n",
    "# Import the required modules\n",
    "import numpy as np\n",
    "import math\n",
    "import matplotlib.pyplot as plt\n",
    "# This makes the plots appear inside the notebook\n",
    "%matplotlib inline\n",
    "\n",
    "from scipy.integrate import odeint\n",
    "\n",
    "# Define a function which calculates the derivative\n",
    "def dydt(y,t):\n",
    "    return y-math.sin(t)-math.cos(t)\n",
    "\n",
    "timesteps = np.linspace(0,20,10000)\n",
    "y0 = 1.0  # the initial condition\n",
    "y = odeint(dydt, y0, timesteps)\n",
    "\n",
    "\n",
    "# Plot the numerical solution\n",
    "plt.rcParams.update({'font.size': 14})  # increase the font size\n",
    "plt.xlabel(\"time\")\n",
    "plt.ylabel(\"y\")\n",
    "plt.plot(timesteps, y);"
   ]
  },
  {
   "cell_type": "markdown",
   "id": "b5faa44d",
   "metadata": {
    "id": "3d9d834c",
    "slideshow": {
     "slide_type": "slide"
    }
   },
   "source": [
    "# How accurate is our solver in this case?\n",
    "\n",
    "At time equal to 20 units, the solver is approximately **6500% WRONG.**\n",
    "\n",
    "This take away here is simply this: \n",
    "1. We have to know when to trust a solver/simulator.\n",
    "2. Simulations always result in approximations\n",
    "3. And somethings just cannot be simulated accurately"
   ]
  },
  {
   "cell_type": "markdown",
   "id": "1c3b7561",
   "metadata": {
    "id": "354dd371",
    "slideshow": {
     "slide_type": "slide"
    }
   },
   "source": [
    "# And now for a bit of history\n",
    "\n",
    "## Newton and determinism\n",
    "- From 1666 - about the 1890s, the world and life-at-large was considered to be deterministic and solvable.\n",
    "- Determistic mathematics could use current information to make projections about the world around\n",
    "- This was hugely successful. There are too many successes to name (pretty much everything you studied to date) and one fun example is the discovery of Neptune, which was done using calculations and not through astronomical observation.\n",
    "- But the ideas of a deterministic universe started cracking in the late 1800s with the rise of statistical physics and then completely crashed in the 1960's due to Lorenz's work"
   ]
  },
  {
   "cell_type": "markdown",
   "id": "709246a6",
   "metadata": {
    "slideshow": {
     "slide_type": "slide"
    }
   },
   "source": [
    "## Lorenz and chaos\n",
    "- In 1940's - 1960's, computers were first being put to the test to simulate complex dynamical systems.\n",
    "- Lorenz's team was trying to simulate atmospheric convection using simple differential equations that scientist had been using for 300 years to predict dynamic responses\n",
    "- To the teams suprise, the observed:\n",
    "    - The simulation never settles down into 1 pattern. It changes for all time.\n",
    "    - Any miniscule change in the initial condition led to completely different convection patterns.\n",
    "    - Same for any minuscule change in the parameters.\n",
    "    - Changing the time step size or error tolerances always leads to different convection patterns.\n",
    "- This was a shattering moment. The points above mean one thing: we cannot accurately **simulate** atmospheric convection because any minor error in measuring the initial conditions or estimating the parameters will lead to largely different outcomes. \n",
    "\n",
    "<img src=\"images/A_Trajectory_Through_Phase_Space_in_a_Lorenz_Attractor.gif\">\n",
    "\n",
    "*Image from Wikipedia.*"
   ]
  },
  {
   "cell_type": "markdown",
   "id": "b07cf018",
   "metadata": {
    "slideshow": {
     "slide_type": "slide"
    }
   },
   "source": [
    "## What does this mean to us?\n",
    "- Luckily, we don't often work with chaotic systems.\n",
    "- BUT, this tells us we better understand our **simulators** and appreciate how errors can propogate in complex, dynamic systems."
   ]
  },
  {
   "cell_type": "markdown",
   "id": "4ee33a44",
   "metadata": {
    "id": "63c7e202",
    "slideshow": {
     "slide_type": "slide"
    }
   },
   "source": [
    "# Course Content\n",
    "1. Intro to Python/Jupyter\n",
    "2. Understanding dynamic responses of first order differential equations\n",
    "    1. Flow on a line\n",
    "    2. Bifurcation diagrams\n",
    "    3. Linear first order ODEs\n",
    "3. Understanding dynamic responses of second order differential equations (i.e. systems)\n",
    "    1. Phase portraits\n",
    "    2. Eigenvalues \n",
    "4. Numerical methods to solving ODEs and their possible shortcoming\n",
    "    1. Forward Euler\n",
    "    2. Backward Euler\n",
    "    3. Runge-Kutta\n",
    "5. Local sensitivity analysis of ODEs \n",
    "6. Model parameterization and identifiability\n",
    "7. Linear model regression and statistics\n",
    "8. Local and global sensitivity analysis of ODEs\n",
    "9. Model evaluation and selection\n",
    "10. Machine learning (correlation) modeling using neural nets\n",
    "\n",
    "We have about 15 lectures times available, so I hope we get through most of this. \n"
   ]
  },
  {
   "cell_type": "markdown",
   "id": "4c2c9108",
   "metadata": {
    "slideshow": {
     "slide_type": "slide"
    }
   },
   "source": [
    "\n",
    "# Note about me, the class, and homework\n",
    "\n",
    "1. I do not like that this course is 3 lectures squeezed into 1 slot\n",
    "    1. If you trust scientists, this is a very innefficient way to learn.\n",
    "2. Homeworks might be issued at different time instead of once a week to keep our minds fresh.\n",
    "3. We will need to be flexible again this semester. I hope to have **exams** that are mixed writing and oral presentation. We will see how things evolve. But we also might just have projects.\n",
    "4. Class **participation is required**. \n",
    "    1. In person when possible\n",
    "    2. On zoom, **camera must be on and you must be willing to interact.** \n",
    "    3. 2 or more unexplained and justified absences will result in a failing grade.\n",
    "    4. On zoom, camera off and unresponsive = absent.\n",
    "5. Grades\n",
    "    1. Standard scales (>90 A and so on)\n",
    "    2. HW and 3 exams are all 25% of the final grade\n",
    "6. So at the end of the day, I ask that you be flexible this semester.\n",
    "7. **The surest way to fail is to avoid learning how to program.**"
   ]
  },
  {
   "cell_type": "markdown",
   "id": "6c283b81",
   "metadata": {
    "slideshow": {
     "slide_type": "slide"
    }
   },
   "source": [
    "# More about me :-)    "
   ]
  },
  {
   "cell_type": "markdown",
   "id": "3c869442",
   "metadata": {
    "slideshow": {
     "slide_type": "fragment"
    }
   },
   "source": [
    "- I have lived in Jupiter, Florida\n",
    "    - Fun fact: coding is still considered witch craft in most of the state.\n",
    "\n",
    "<img src=\"images/lighthouse.jpg\" width=\"500\">"
   ]
  },
  {
   "cell_type": "markdown",
   "id": "167e8924",
   "metadata": {
    "slideshow": {
     "slide_type": "slide"
    }
   },
   "source": [
    "# More about me :-)\n",
    "\n",
    "- I have two great kids\n",
    "    - Which means lots of childcare problems\n",
    "    - Hopefully not a problem after Sept 13...but the date keeps getting moved.\n",
    "\n",
    "<img src=\"images/family.jpg\" width=\"500\">"
   ]
  },
  {
   "cell_type": "markdown",
   "id": "7e688f8f",
   "metadata": {
    "id": "I6UG8f7806Dq",
    "slideshow": {
     "slide_type": "slide"
    }
   },
   "source": [
    "## Quick comment on homeworks\n",
    "\n",
    "- I intend for the homeworks to be done directly on Jupyter notebooks. \n",
    "- As such, it is expected that you will take the time to turn in a clear, organized, and, if necessary, commented notebook.\n",
    "- Confusing notebooks will lose points.\n",
    "\n",
    "## Let's look at the syllabus to make sure we hit all the points."
   ]
  },
  {
   "cell_type": "code",
   "execution_count": null,
   "id": "8659b94d",
   "metadata": {
    "id": "pJJUHwi73ibs"
   },
   "outputs": [],
   "source": []
  }
 ],
 "metadata": {
  "celltoolbar": "Slideshow",
  "colab": {
   "collapsed_sections": [
    "dd4671f1",
    "336e7cc5",
    "3d9d834c",
    "354dd371"
   ],
   "name": "1 Course Intro.ipynb",
   "provenance": []
  },
  "kernelspec": {
   "display_name": "Python 3 (ipykernel)",
   "language": "python",
   "name": "python3"
  },
  "language_info": {
   "codemirror_mode": {
    "name": "ipython",
    "version": 3
   },
   "file_extension": ".py",
   "mimetype": "text/x-python",
   "name": "python",
   "nbconvert_exporter": "python",
   "pygments_lexer": "ipython3",
   "version": "3.9.12"
  }
 },
 "nbformat": 4,
 "nbformat_minor": 5
}
