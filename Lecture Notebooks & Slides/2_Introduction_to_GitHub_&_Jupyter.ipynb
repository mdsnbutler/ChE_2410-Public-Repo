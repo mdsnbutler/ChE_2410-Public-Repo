{
  "cells": [
    {
      "cell_type": "markdown",
      "id": "700524ab",
      "metadata": {
        "id": "700524ab"
      },
      "source": [
        "# Introduction to coding \n",
        "- By now, you've already done some coding (maybe a lot)\n",
        "- In this course, we'll focus on using Jupyter and GitHub\n",
        "- If you do not have a strong coding background, do not panic!\n",
        "    - We start pretty fast. You'll pick it up as you go :-)\n",
        "- Again - DON'T PANIC!"
      ]
    },
    {
      "cell_type": "markdown",
      "id": "g-eoOVxEf-mp",
      "metadata": {
        "id": "g-eoOVxEf-mp"
      },
      "source": [
        "- yet"
      ]
    },
    {
      "cell_type": "markdown",
      "id": "gDJcjemaf2YZ",
      "metadata": {
        "id": "gDJcjemaf2YZ"
      },
      "source": [
        "# In class today, we'll \n",
        "- Create a Github repo\n",
        "- Create a notebook in the repo\n",
        "- Edit the notebook using google colab or using a local Jupyter exe\n",
        "- Submit a \"commit\" back to our repo\n",
        "- Start working with Jupyter Notebooks.\n",
        "\n",
        "All of this will make more sense as we progress :-)"
      ]
    },
    {
      "cell_type": "markdown",
      "id": "4b354af3",
      "metadata": {
        "id": "4b354af3"
      },
      "source": [
        "# Github\n",
        "- Github is to help with Version control\n",
        "    - No more file1.r, file2.r, etc.\n",
        "- Github is to help organize MEANINGFUL UPDATES\n",
        "    - It is not a generic tool for backup. Please use drive, onedrive, etc. for this.\n",
        "        - But, be careful using drive + Github on the same directory!!\n",
        "    - It is for providing purposeful, commented, significant updates to a code-based project\n",
        "    - It is really good for team-based work, though this typically still requires additional organizational tools\n",
        "        - Trello\n",
        "- Example: https://github.com/jshoe1984/Grad_Math"
      ]
    },
    {
      "cell_type": "markdown",
      "id": "8a072de4",
      "metadata": {
        "id": "8a072de4"
      },
      "source": [
        "# Download example files to work with\n",
        "\n",
        "- Download the \"2 Introduction to GitHub & Jupyter.ipynb\" file only.\n",
        "    - Right click \"save link as\"\n",
        "- Do not download other files. We'll make those."
      ]
    },
    {
      "cell_type": "markdown",
      "id": "4a52824e",
      "metadata": {
        "id": "4a52824e"
      },
      "source": [
        "# Create your repo\n",
        "- Profile / Repositories\n",
        "- Select new repo.\n",
        "    - Give the repo a useful name\n",
        "    - Keep it private for now\n",
        "    - Add a read me file. We'll edit later\n",
        "    - Add the .gitignore file for \"python\". This will include jupyter notebooks\n",
        "    - Upload jupyter notebook"
      ]
    },
    {
      "cell_type": "markdown",
      "id": "1e9b3d8f",
      "metadata": {
        "id": "1e9b3d8f"
      },
      "source": [
        "# Now, you're all ready to code if you want to use Colab to edit your notebook\n",
        "\n",
        "- An annoying thing about coding: the environments and options are always changing >.<\n",
        "- Please code in the environment you're comfortable with. Be it Colab or local Jupyter.\n",
        "\n",
        "![My way is better](https://github.com/jshoe1984/Grad_Math/blob/main/images/me_way_better.gif?raw=1)\n"
      ]
    },
    {
      "cell_type": "markdown",
      "id": "4faca37c",
      "metadata": {
        "id": "4faca37c"
      },
      "source": [
        "# Now, you're all ready to code if you want to use Colab to edit your notebook\n",
        "\n",
        "- An annoying thing about coding: the environments and options are always changing >.<\n",
        "- That said, I'll show some ways to integrate GitHub and Jupyter. More exist\n",
        "- And as we progress, I will cover SOME packages. Not all. Use your favorite\n",
        "- **But avoid being snippy about your favorite tools**\n",
        "- Quick colab demo"
      ]
    },
    {
      "cell_type": "markdown",
      "id": "Ufc9VOUieU-r",
      "metadata": {
        "id": "Ufc9VOUieU-r"
      },
      "source": [
        "# GitHub + Colab\n",
        "- Really convenient\n",
        "- But\n",
        "  - Repo must be public to link & see images\n",
        "  - Mostly useful for code/script editing ONLY\n",
        "  - Doing more complex work, like needing to add multiple files types and content can be very tedious still"
      ]
    },
    {
      "cell_type": "markdown",
      "id": "37af9b38",
      "metadata": {
        "id": "37af9b38"
      },
      "source": [
        "# GitHub + Continuous Backup (drive, onedrive, etc.)\n",
        "- It's not recommended to use GH as a generalized backup tool.\n",
        "- And using GH with backup tools can sometimes lead to conflicts if not being careful\n",
        "    - I.e., google drive didn't sync, then run GH, then drive syncs, and everything's a mess\n",
        "    - obviously a bigger issue when working in teams\n",
        "- Recommended way:\n",
        "    - Use drive/equivalent to backup continously across all machines\n",
        "    - Only use GH from a designated machine.\n",
        "    - Be sure/confident that all files are synced and ready for a GH update.\n",
        "- There are other backup services that handles these issue, but most cost money or are in early development."
      ]
    },
    {
      "cell_type": "markdown",
      "id": "Ucvng3CVez-i",
      "metadata": {
        "id": "Ucvng3CVez-i"
      },
      "source": [
        "# GitHub + Jupyter Notebooks (locally)\n",
        "- This is certainly the easier and more professional way to work with GitHub and coding\n",
        "- First, use GitHub desktop to clone your repo to your device\n",
        "- It is not recommended to clone the repo to a google drive/onedrive directory\n",
        "  - Update conflicts can occur\n",
        "- Once cloned, you can operate on your code and data on your device."
      ]
    },
    {
      "cell_type": "markdown",
      "id": "bc1eaff5",
      "metadata": {
        "id": "bc1eaff5"
      },
      "source": [
        "# To start coding with Jupyter locally\n",
        "- Download the github desktop app\n",
        "- After installing, clone your repo to a local directory\n",
        "- \"Cloning\" will put a local copy on your machine\n",
        "- Can now edit with Jupyter on your machine. \n",
        "- From here, for a basic GitHub user, you're ready to go\n",
        "    - For more advanced uses, typically when more than 1 user, you'll have to learn \"Commit - Pull - Push\"\n",
        "    - Commit: any edits you made to code are accepted to be integrated into the online repo\n",
        "    - Pull: pull down the most recent code, so that edits others made while you worked are incorporated\n",
        "    - Push: Git will check for conflicting edits. If none, you push theh new code to the repo"
      ]
    },
    {
      "cell_type": "markdown",
      "id": "dd4671f1",
      "metadata": {
        "id": "dd4671f1"
      },
      "source": [
        "# Primer for Python coding with Jupyter Notebooks\n",
        "\n",
        "Jupyter is a handy way to develop code. It allows you to integrate text, images, references and more into the code development process. This primer is a quick reference guide showing many of the basics of coding Python with Jupyter. However, there are far better references and guides you can find online:\n",
        "- Jupyter Primer : https://www.dataquest.io/blog/jupyter-notebook-tutorial/\n",
        "- Python and Numpy : https://www.w3schools.com/python/numpy/default.asp\n",
        "- Jupyter and Python Intro by Dr. John Kitchins : http://kitchingroup.cheme.cmu.edu/f19-06623/01-jupyter.html\n",
        "\n",
        "But ultimately the best way to learn code is by seeing code others have written! \n"
      ]
    },
    {
      "cell_type": "markdown",
      "id": "ab51c148",
      "metadata": {
        "id": "ab51c148"
      },
      "source": [
        "# How to open a notebook\n",
        "\n",
        "1. To do locally, install anaconda. This will install notebooks automatically.\n",
        "    1. Let's restart my session and show everyone how to turn on and get started\n",
        "2. You can also code on Google's Colab\n",
        "    1. Free and easy to set up. Do need a google account and use google drive to keep files organized.\n",
        "    2. Can only run code while connected to internet.\n",
        "    3. For short blurbs of code, can be a little annoying as it will take longer to run.\n",
        "    4. BUT, for more advanced codes, the Colab server is fast and you can access GPUs."
      ]
    },
    {
      "cell_type": "markdown",
      "id": "336e7cc5",
      "metadata": {
        "id": "336e7cc5"
      },
      "source": [
        "# First thing to know about Jupyter is how to use Cells\n",
        "\n",
        "This box you are reading is a \"cell\". And cells come in 2 basic forms: a **Code** cell and a **Markdown** Cell. To add a cell, you can use the \"Insert\" pulldown tab and place a new cell above or below your current location. Or you can use short cut keys, which I'll define below. \n",
        "\n",
        "**Code Cells**: If a cell is set to \"Code\", this is where you enter code that will be executed/rendered. In code cells is where most of the action will occur. New cells are usually defaulted to be code cells, but you can also set them by selecting the pull down tab (right below Widgets above) or press ESC and then C.\n",
        "\n",
        "**Markdown Cells**: Markdown is used to markup (I know...) the document. Here is where you can provide text and images to support your code development. Mardown cells will not execute Python code included inside. You can set a sell to be a markdown cell by selecting the pull down tab (right below Widgets above) or press ESC and then M.\n",
        "\n",
        "So with that basic knowledge, it's easier to learn Jupyter by running through some examples. Below will provide some example markdown and the provide an example Jupyter usecase. "
      ]
    },
    {
      "cell_type": "markdown",
      "id": "1b8eb05a",
      "metadata": {
        "id": "1b8eb05a"
      },
      "source": [
        "# Markdown (double click to see code if already executed)\n",
        "\n",
        "Taking notes while coding used to be very limited and look something like this:\n",
        "\n",
        "% I wrote something below...I hope it works\n",
        "\n",
        "% I don't know what z is...hopefully it doesn't have units.\n",
        "\n",
        "% This is version like...97ish of this code.\n",
        "\n",
        "x <- z+sin(x);\n",
        "\n",
        "return(x)\n",
        "\n",
        "Well \"markdown\" is an easy to learn markup language for formatting plain text. You can use markdown to better take notes while coding. But first, it is helpful to know some of the basics. But *note*, this is the basics. A lot more can be done with markdown to make a document look great.\n",
        "\n",
        "\n",
        "## This is a level 2 heading\n",
        "\n",
        "### This is a level 3 heading\n",
        "\n",
        "This is some plain text that forms a paragraph. Add emphasis via **bold** and __bold__, or *italic* and _italic_. \n",
        "\n",
        "Paragraphs must be separated by an empty line. \n",
        "\n",
        "* Sometimes we want to include lists. \n",
        "* Which can be bulleted using asterisks. \n",
        "\n",
        "1. Lists can also be numbered. \n",
        "2. If we want an ordered list.\n",
        "\n",
        "[It is possible to include hyperlinks](https://shoemakerlab.pitt.edu)\n",
        "\n",
        "**Inline code** uses single backticks: `print('Hello')`, and code blocks use triple backticks: \n",
        "```\n",
        "a = 6+10\n",
        "a\n",
        "``` \n",
        "Or can be indented by 4 spaces: \n",
        "\n",
        "    foo()\n",
        "\n",
        "But note that inline code **does NOT execute.** This is just a way to \"type up\" a code in a presentable manner \n",
        "    \n",
        "<span style='background:yellow'> You can also add some nice colors edits by leaning on html calls  </span>\n",
        "\n",
        "You can also add images: ![Alt text](http://shoemakerlab.pitt.edu/images/banner.jpg)\n",
        "\n",
        "And last but certainly not least, we can paste in some great mathematics. Jupyter uses Latex and Mathex for presenting equations. Here's a useful example:\n",
        "\n",
        "\\begin{align}\n",
        "\\dot{x} & = \\sigma(y-x) \\\\\n",
        "\\dot{y} & = \\rho x - y - xz \\\\\n",
        "\\dot{z} & = -\\beta z + xy\n",
        "\\end{align}\n",
        "\n",
        "See https://jupyter-notebook.readthedocs.io/en/stable/examples/Notebook/Typesetting%20Equations.html# for more examples\n",
        " "
      ]
    },
    {
      "cell_type": "markdown",
      "id": "233c6219",
      "metadata": {
        "id": "233c6219"
      },
      "source": [
        "# Now coding - AKA The FUN PART!!\n",
        "\n",
        "If you have experience with MATLAB, C++, R, Julia or any other programming language, you'll be able to pick up Python quite quickly. If you are very new to programming or avoided it in undergad - big mistake :-) but now we have time to fill in that void.\n",
        "\n",
        "The only way to learn is to practice and to lean on previous code. In this course, we'll be doing primarily low-complexity coding. You will be able to perform simulations and data analysis so long as you can:\n",
        "\n",
        "- Find the necessary Python library/package\n",
        "- Load data into the Python environment\n",
        "- Edit the vector/matrix indexes correctly (probably the hardest part!)\n",
        "- Run the different algorithms from the packages\n",
        "\n",
        "Below, we'll run some very basic steps, first focusing on the biggest announce when learning Python: indeces. \n",
        "\n",
        "Run the cell below using CTRL + ENTER. And notice the following:\n",
        "1. First, we import a library called numpy and then give the algorithms inside the library a handle, np, that can be used to call the algorithms. Numpy contains a lot of algorithms for handling matrices and we'll learn them as we go along. By assigning NP as the handle, you can call algorithms inside of numpy, such as the \"arange\" function, by first indicating the handle and then function name (e.g. np.arange().\n",
        "2. Running np.arange results in x, a vector with 10 entrees that go from 2 to 10.\n",
        "3. x[2] - **this is where things get interesting** - notice when we ask for the second entree of x...we get the 3rd! Python indexing starts from **ZERO**. This takes practice to get used to.\n"
      ]
    },
    {
      "cell_type": "code",
      "execution_count": null,
      "id": "e96ff9e3",
      "metadata": {
        "colab": {
          "base_uri": "https://localhost:8080/"
        },
        "id": "e96ff9e3",
        "outputId": "4925b95a-de28-47dd-8168-4628185b3be6"
      },
      "outputs": [
        {
          "name": "stdout",
          "output_type": "stream",
          "text": [
            "[ 2  3  4  5  6  7  8  9 10 11]\n",
            "4\n",
            "[4 5 6]\n",
            "[2 3]\n",
            "10\n",
            "[4 8]\n"
          ]
        },
        {
          "data": {
            "text/plain": [
              "array([ 0,  1,  2,  3,  4,  5,  6,  7,  8,  9, 10, 11, 12, 13, 14, 15, 16,\n",
              "       17, 18, 19, 20, 21, 22, 23, 24, 25, 26, 27, 28, 29, 30, 31, 32, 33,\n",
              "       34, 35, 36, 37, 38, 39, 40, 41, 42, 43, 44, 45, 46, 47, 48, 49, 50,\n",
              "       51, 52, 53, 54, 55, 56, 57, 58, 59, 60, 61, 62, 63, 64, 65, 66, 67,\n",
              "       68, 69, 70, 71, 72, 73, 74, 75, 76, 77, 78, 79, 80, 81, 82, 83, 84,\n",
              "       85, 86, 87, 88, 89, 90, 91, 92, 93, 94, 95, 96, 97, 98, 99])"
            ]
          },
          "execution_count": 1,
          "metadata": {},
          "output_type": "execute_result"
        }
      ],
      "source": [
        "import numpy as np\n",
        "\n",
        "x = np.arange(10)+2\n",
        "print(x)\n",
        "print(x[2])\n",
        "\n",
        "# note Note: The result includes the start index, but excludes the end index.\n",
        "print(x[2:5])\n",
        "print(x[:-8])\n",
        "print(x[-2])\n",
        "\n",
        "print(x[np.array([2,6])])\n",
        "\n",
        "np.arange(0,100,1)"
      ]
    },
    {
      "cell_type": "markdown",
      "id": "6afe7300",
      "metadata": {
        "id": "6afe7300"
      },
      "source": [
        "## Functions\n",
        "\n",
        "Functions are probably one of the trickiest things to learn while coding. The best way to understand how functions work is to build your own and see what they can do. Below, we have a simple function where if given some value of x and t, the function will calculate the double of x and return that value.\n",
        "\n",
        "I wrote this function awkwardly to point out some features of functions to be aware of:\n",
        " - The code in the function doesn't use t. BUT, the function as written asks for t and y. In order to run this, a fake value for t has to be entered. This is important to understand because many differential equation functions always ask for a value of t - even when there is not t in the equation. \n",
        " - **Nested variables**: these are variables inside a function, e.g. \"a\" below. Anything nested inside a function only exists inside the function. If you try to print the value of a, an error will occur because a doesn't exist."
      ]
    },
    {
      "cell_type": "code",
      "execution_count": null,
      "id": "8d5f6a5a",
      "metadata": {
        "colab": {
          "base_uri": "https://localhost:8080/"
        },
        "id": "8d5f6a5a",
        "outputId": "03602f0d-a59f-424a-8f40-8cb3d71a52f9"
      },
      "outputs": [
        {
          "name": "stdout",
          "output_type": "stream",
          "text": [
            "20\n",
            "40\n"
          ]
        }
      ],
      "source": [
        "def f(x,t):\n",
        "    a=10\n",
        "    y = x * 2\n",
        "    return y\n",
        "\n",
        "print(f(10,4))\n",
        "print(f(20,200))\n",
        "\n",
        "# IMPORTANT TO KNOW ABOUT FUNCTIONS. This won't work\n",
        "# print(a)"
      ]
    },
    {
      "cell_type": "markdown",
      "id": "513ffe4c",
      "metadata": {
        "id": "513ffe4c"
      },
      "source": [
        "## Plotting\n",
        "\n",
        "You can plot pretty much anything with matplotlib or ggplot and there is an excellent collection of examples with code here:\n",
        "\n",
        "https://matplotlib.org/stable/gallery/index.html\n",
        "\n",
        "https://realpython.com/ggplot-python/\n",
        "\n",
        "https://ggplot2.tidyverse.org/\n",
        "\n",
        "Here are some sample graphics.\n",
        "\n",
        "<img src=\"https://matplotlib.org/stable/_images/sphx_glr_bar_label_demo_001.png\">\n",
        "<img src=\"https://matplotlib.org/stable/_images/sphx_glr_markevery_prop_cycle_001.png\">"
      ]
    },
    {
      "cell_type": "markdown",
      "id": "7b6a83d0",
      "metadata": {
        "id": "7b6a83d0"
      },
      "source": [
        "# Math functions and libraries\n",
        "\n",
        "It's important to remember that Python is a pure coding language. Basic functions that you have used in other programs, e.g. MATLAB, already have several mathematical functions built in. Python **does not**. A simple example is the sin function. For functions like this and others we might come across, you will have to identify and load the correct library. To use sin functions or exponential functions, you will have to load the math library. For matrices, we'll need numpy. In general, we'll rely on the following most often:\n",
        "1. Numpy - handles matrices\n",
        "2. Math - basic math functions\n",
        "3. Matplotlib - plotting\n",
        "3. Pandas - data frames\n",
        "4. SciPy - optimization, linear algebra, integration, interpolation, special functions, FFT, signal and image processing, ODE solvers"
      ]
    },
    {
      "cell_type": "code",
      "execution_count": null,
      "id": "a8e4cb89",
      "metadata": {
        "id": "a8e4cb89"
      },
      "outputs": [],
      "source": []
    }
  ],
  "metadata": {
    "celltoolbar": "Slideshow",
    "colab": {
      "collapsed_sections": [],
      "name": "2 Introduction to GitHub & Jupyter.ipynb",
      "provenance": []
    },
    "kernelspec": {
      "display_name": "Python 3.9.12 ('base')",
      "language": "python",
      "name": "python3"
    },
    "language_info": {
      "codemirror_mode": {
        "name": "ipython",
        "version": 3
      },
      "file_extension": ".py",
      "mimetype": "text/x-python",
      "name": "python",
      "nbconvert_exporter": "python",
      "pygments_lexer": "ipython3",
      "version": "3.9.12"
    },
    "vscode": {
      "interpreter": {
        "hash": "3ea7c28dc7569e024bd9f57d5fd933e532fb588a53e331ae301b88ac3d4d46d7"
      }
    }
  },
  "nbformat": 4,
  "nbformat_minor": 5
}
