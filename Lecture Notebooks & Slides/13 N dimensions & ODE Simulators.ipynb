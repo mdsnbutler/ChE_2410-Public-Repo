{
 "cells": [
  {
   "cell_type": "markdown",
   "id": "e0ec15f5",
   "metadata": {
    "slideshow": {
     "slide_type": "slide"
    }
   },
   "source": [
    "# Our current tool box\n",
    "\n",
    "- For given a **first order system**, time-invarient system and regardless of complexity, we can:\n",
    "    - Use **Flow** to analyze system behaviors\n",
    "    - Use **simulations** to estimate our state variable's change over time for fixed initial condition and parameters\n",
    "    - Apply **bifurcation analysis** to determine the impact of changing a parameter on the system behaviors\n",
    "    - **Linearize** the system, though typically unnecessary for first order systems\n",
    "- For given a **second order system**, time-invarient system and regardless of complexity, we can:\n",
    "    - Use **phase portraits** to analyze system behaviors\n",
    "    - Use **simulations** to estimate our state variables' change over time for fixed initial condition and parameters\n",
    "    - Use **eigenvalues** to determine stability of steadystates\n"
   ]
  },
  {
   "cell_type": "markdown",
   "id": "811305e3",
   "metadata": {
    "slideshow": {
     "slide_type": "slide"
    }
   },
   "source": [
    "# How to use visual approaches to larger, nth order systems\n",
    "\n",
    "- Visualization approaches are critical to understanding ODE dynamics\n",
    "- While phase portraits cannot be extended to 4th order ODE systems, other concepts can\n",
    "- Eigenvalues can be applied to nth order systems. The challange becomes\n",
    "    - identifying all of the steadystates that may exist (never trivial)\n",
    "    - calculating the Jacobian, which grows with dimensions\n",
    "        - Jacobian is always n x n\n",
    "        - Likely tool exists to approximate the Jacobian for us (scipy.optimize.approx_fprime)\n",
    "- Bifurcation analysis can also be applied in a limited sense\n",
    "    - For larger systems, one selects a state and parameter of interest and generates a bifurcation plot\n",
    "    - Danger is that other states not illustrated in the plot may be doing nonphysical things"
   ]
  },
  {
   "cell_type": "markdown",
   "id": "12a1b9ba",
   "metadata": {
    "slideshow": {
     "slide_type": "slide"
    }
   },
   "source": [
    "# Show Chemostat Paper 2003\n",
    "\n",
    "Shoemaker J, Reeves GT, Gupta S, Pilyugin SS, Egli T, Narang A. The dynamics of single-substrate continuous cultures: the role of transport enzymes. J Theor Biol. 2003 Jun 7;222(3):307-22. doi: 10.1016/s0022-5193(03)00036-5. PubMed PMID: 12732477."
   ]
  },
  {
   "cell_type": "markdown",
   "id": "e6ad9bb0",
   "metadata": {
    "slideshow": {
     "slide_type": "slide"
    }
   },
   "source": [
    "# To date, we have relied on simulators - but we don't know how simulators work!!\n",
    "\n",
    "- It is important to understand what simulators can and cannot do\n",
    "- Concepts we will cover:\n",
    "    - implicit vs explicit simulator strategies\n",
    "    - stiffness: when certain simulators take a long time to complete a simulation because they require small step sizes\n",
    "    - stability and simulations"
   ]
  },
  {
   "cell_type": "markdown",
   "id": "89c6001b",
   "metadata": {
    "slideshow": {
     "slide_type": "slide"
    }
   },
   "source": [
    "# A reminder: Simulators are not perfect\n",
    "\n",
    "In the space below, write the code to simulate solutions to the following:\n",
    "1. $\\dot{y} = -y^2+y-\\frac{1}{t+1}$\n",
    "2. $\\dot{y} = -y^2-y+\\frac{1}{t+1}$\n",
    "\n",
    "Use the initial condition of y0=1 for both functions and plot the results from time = [0,21]\n",
    "\n",
    "After plotting, solve the solution to (1) above by hand."
   ]
  },
  {
   "cell_type": "code",
   "execution_count": 1,
   "id": "3969e6d5",
   "metadata": {
    "slideshow": {
     "slide_type": "slide"
    }
   },
   "outputs": [
    {
     "data": {
      "text/plain": [
       "[<matplotlib.lines.Line2D at 0x2765db71df0>]"
      ]
     },
     "execution_count": 1,
     "metadata": {},
     "output_type": "execute_result"
    },
    {
     "data": {
      "image/png": "[encoded data removed]",
      "text/plain": [
       "<Figure size 432x288 with 1 Axes>"
      ]
     },
     "metadata": {
      "needs_background": "light"
     },
     "output_type": "display_data"
    }
   ],
   "source": [
    "#@title\n",
    "# Import the required modules\n",
    "import numpy as np\n",
    "import math\n",
    "import matplotlib.pyplot as plt\n",
    "# This makes the plots appear inside the notebook\n",
    "%matplotlib inline\n",
    "\n",
    "from scipy.integrate import odeint\n",
    "\n",
    "# Define a function which calculates the derivative\n",
    "def f1(y,t):\n",
    "    return -y**2+y-(1/(t+1));\n",
    "\n",
    "def f2(y,t):\n",
    "    return -y**2-y+(1/(t+1));\n",
    "\n",
    "timesteps = np.linspace(0,21,10000)\n",
    "y0 = 1.0  # the initial condition\n",
    "y1 = odeint(f1, y0, timesteps)\n",
    "y2 = odeint(f2, y0, timesteps)\n",
    "\n",
    "# Plot the numerical solution\n",
    "plt.rcParams.update({'font.size': 14})  # increase the font size\n",
    "plt.xlabel(\"time\")\n",
    "plt.ylabel(\"y\")\n",
    "plt.plot(timesteps, y1,'r');\n",
    "plt.plot(timesteps, y2,'b');\n",
    "\n",
    "# Double check answer\n",
    "plt.plot(timesteps,1/(1+timesteps),'g')"
   ]
  },
  {
   "cell_type": "markdown",
   "id": "d3cb7c78",
   "metadata": {
    "slideshow": {
     "slide_type": "slide"
    }
   },
   "source": [
    "# A reminder: Simulators are not perfect\n",
    "\n",
    "- The solutions to these two simulations should be **100% the same**\n",
    "    - In other words, these are the same equations, just written in different ways\n",
    "- Obviously, the solutions from our simulator do not match\n",
    "- And, yes, these can be solved by hand, are stable and should approach a steadystate value of 0 as time goes to infinite.\n",
    "- **So why did the simulator fail?**"
   ]
  },
  {
   "cell_type": "markdown",
   "id": "f39c6f10",
   "metadata": {
    "slideshow": {
     "slide_type": "slide"
    }
   },
   "source": [
    "# A reminder: Simulators are not perfect; Example 2\n",
    "\n",
    "In the space below, write the code to simulate solutions to the following:\n",
    "1. $\\dot{y} = y-sin(t)-cos(t)$\n",
    "2. $\\dot{y} = -y-sin(t)+cos(t)$\n",
    "\n",
    "Use the initial condition of y0=1 for both functions and plot the results from time = [0,20]\n",
    "\n",
    "After plotting, solve the solution to (1) above by hand."
   ]
  },
  {
   "cell_type": "code",
   "execution_count": 2,
   "id": "572f255f",
   "metadata": {
    "slideshow": {
     "slide_type": "slide"
    }
   },
   "outputs": [
    {
     "data": {
      "image/png": "[encoded data removed]",
      "text/plain": [
       "<Figure size 432x288 with 1 Axes>"
      ]
     },
     "metadata": {
      "needs_background": "light"
     },
     "output_type": "display_data"
    }
   ],
   "source": [
    "#@title\n",
    "# Import the required modules\n",
    "import numpy as np\n",
    "import math\n",
    "import matplotlib.pyplot as plt\n",
    "# This makes the plots appear inside the notebook\n",
    "%matplotlib inline\n",
    "\n",
    "from scipy.integrate import odeint\n",
    "\n",
    "# Define a function which calculates the derivative\n",
    "def f1(y,t):\n",
    "    return y-math.sin(t)-math.cos(t)\n",
    "\n",
    "def f2(y,t):\n",
    "    return -y-math.sin(t)+math.cos(t)\n",
    "\n",
    "timesteps = np.linspace(0,20,1000)\n",
    "y0 = 1.0  # the initial condition\n",
    "y1 = odeint(f1, y0, timesteps)\n",
    "y2 = odeint(f2, y0, timesteps)\n",
    "\n",
    "# Plot the numerical solution\n",
    "plt.rcParams.update({'font.size': 14})  # increase the font size\n",
    "plt.xlabel(\"time\")\n",
    "plt.ylabel(\"y\")\n",
    "plt.plot(timesteps, y1);\n",
    "plt.plot(timesteps, y2);"
   ]
  },
  {
   "cell_type": "markdown",
   "id": "b1a19ab7",
   "metadata": {
    "slideshow": {
     "slide_type": "slide"
    }
   },
   "source": [
    "# So how do ODE simulators work?\n",
    "\n",
    "- All simulators work on the same basic premise\n",
    "    - We take time, break it into tiny pieces, and then use the value of the derivatives to estimate the state values at other times.\n",
    "- For now, we will continue working with initial value problems (IVP), meaning we start at some point and move forward or backward in time or space. IVP only require values specified at one point.\n",
    "- Later problems will be boundary value problems, which require more than 1 piece of information"
   ]
  },
  {
   "cell_type": "markdown",
   "id": "722c24cc",
   "metadata": {
    "slideshow": {
     "slide_type": "slide"
    }
   },
   "source": [
    "# So how do ODE simulators work?\n",
    "\n",
    "1. We start at some initial value and some point in time. Usually we just let time = 0.\n",
    "2. We know the derivative defines how much the solution changes for an infinitesimally small change in time.\n",
    "3. Simulators say let's take a very small step in time, and use the derivative to estimate how much the solution has changed.\n",
    "4. Two broad classes of simulators exist (with combinations of both being used):\n",
    "    1. Explicit solvers\n",
    "    2. Implicit solvers"
   ]
  },
  {
   "cell_type": "markdown",
   "id": "e323f1ea",
   "metadata": {
    "slideshow": {
     "slide_type": "slide"
    }
   },
   "source": [
    "# Explicit Solvers: Forward Euler Method\n",
    "- First method proposed to estimate solutions to ODEs\n",
    "    - You have probably learned this before or done this by hand\n",
    "- Approach\n",
    "    1. Given $\\frac{dy}{dt} = f(y,t)$\n",
    "    2. Start at t = 0 and some initial conditions $y_0$\n",
    "    3. Define h to be our stepsize in time and plan to take N steps in time\n",
    "    4. Euler method is simply:\n",
    "        $y_{n+1} = y_n+h*f(y_n,t_n)$ where n is a step forward in time, going from 0 to N.\n",
    "- Let's code a Euler approach for the following:\n",
    "\\begin{align}\n",
    "\\dot{x} = -x - y \\\\\n",
    "\\dot{y} = x - y\\\\\n",
    "\\end{align}\n",
    "\n",
    "with x = 3 and y = 5 as the initial conditions.\n",
    "        "
   ]
  },
  {
   "cell_type": "code",
   "execution_count": 3,
   "id": "aa0942f0",
   "metadata": {
    "slideshow": {
     "slide_type": "slide"
    }
   },
   "outputs": [],
   "source": [
    "import numpy as np\n",
    "from numpy import linalg as LA\n",
    "import matplotlib.pyplot as plt\n",
    "# This makes the plots appear inside the notebook\n",
    "%matplotlib inline\n",
    "\n",
    "\n",
    "# Define our derivative\n",
    "def f(v,t):\n",
    "    x, y = v;\n",
    "    return np.array([-x-y,x-y])\n",
    "\n",
    "# define step size\n",
    "h = .1;\n",
    "n_steps = 100;\n",
    "\n",
    "# define our initial conditions.\n",
    "time = np.zeros(n_steps);\n",
    "output = np.zeros((n_steps,2));\n",
    "output[0] = [3,5];\n",
    "\n",
    "# Write a loop here to perform a forward euler solution. After the loop, plot the results."
   ]
  },
  {
   "cell_type": "markdown",
   "id": "e8e17645",
   "metadata": {
    "slideshow": {
     "slide_type": "slide"
    }
   },
   "source": [
    "# Implicit ODE solvers: Backward Euler\n",
    "\n",
    "- In explicit solvers, out estimates of the state value at the **next time** point only depends on information from the **previous** time point\n",
    "- Implicit solvers try to use estimates of the derivative at the **next** time point to estimate the state value at the **next** time point\n",
    "- The most basic implicit method is the Backward Euler method\n",
    "    - $y_{n+1} = y_n+h*f(y_{n+1},t_{n+1})$ where n is a step forward in time, going from 0 to N.\n",
    "- Since $y_{n+1}$ is on **both sides** of the equation, more work is needed at each timestep to estimate $y_{n+1}$. \n",
    "    - Several ways to implement solving this equation\n",
    "    - One way is to, at each step in time, solve the roots of $y_{n+1} - y_n -h*f(y_{n+1},t_{n+1})= 0$"
   ]
  },
  {
   "cell_type": "code",
   "execution_count": 4,
   "id": "08a099a6",
   "metadata": {
    "slideshow": {
     "slide_type": "slide"
    }
   },
   "outputs": [],
   "source": [
    "import numpy as np\n",
    "from numpy import linalg as LA\n",
    "import matplotlib.pyplot as plt\n",
    "# This makes the plots appear inside the notebook\n",
    "%matplotlib inline\n",
    "\n",
    "# define our initial conditions.\n",
    "time = np.zeros(n_steps);\n",
    "output = np.zeros((n_steps,2));\n",
    "output[0] = [3,5];\n",
    "\n"
   ]
  },
  {
   "cell_type": "markdown",
   "id": "8e923777",
   "metadata": {
    "slideshow": {
     "slide_type": "slide"
    }
   },
   "source": [
    "# Comparing Explicit and Implicit Euler\n",
    "\n",
    "- Explicit:\n",
    "    - Faster\n",
    "    - Each is about equally accurate if there are no stability issues\n",
    "    - Much easier to go unstable for different step sizes\n",
    "        - Try changing h above. Consider h = .5 or 1.\n",
    "- Implicit\n",
    "    - Slower\n",
    "    - Has a much greater range of stability for different steps sizes\n",
    "    - Often good for **stiff** systems\n",
    "        - Still system is a system that has to take very small steps sizes in order to have an accurate estimate of the solution"
   ]
  },
  {
   "cell_type": "markdown",
   "id": "f27a8eab",
   "metadata": {
    "slideshow": {
     "slide_type": "slide"
    }
   },
   "source": [
    "# Comparing modern solvers\n",
    "\n",
    "- There are many many solver implementations, too many to discuss in a overview\n",
    "    - But almost all use combinations of implicit and explicit solutions\n",
    "    - Some will switch strategies based on how small of a step size the simulator estimates is needed\n",
    "- To compare different solvers, several items should be considered:\n",
    "    - The general accuracy of the solver\n",
    "    - How stable the solver is \n",
    "    - How accuracy scales with the steps size\n",
    "- A common issue is stiffness\n",
    "    - If it takes a long time or very small step sizes (if you can choose them) to simulate, **consider switching solvers**\n",
    "        - MATLAB doesn't let you choose step sizes usually"
   ]
  },
  {
   "cell_type": "markdown",
   "id": "83dc3992",
   "metadata": {
    "slideshow": {
     "slide_type": "slide"
    }
   },
   "source": [
    "# But even modern solvers are limited, especially for unstable systems\n",
    "\n",
    "- Solvers hate cancellations\n",
    "    - Solvers approximate solutions. So two terms that should cancel, often won't\n",
    "- Failing to cancel or simplify equations can lead to artificial \"positive eigenvalues\"\n",
    "    - dy/dt = +y above is almost always bad\n",
    "    - Once an unstable component starts to grow, it will dominate the simulator. That is what is happening in our equations above\n",
    "    - **Should always simplify equations when using simulators**\n",
    "- In a system that is truly unstable, simulators can only be used in a very limited manner\n",
    "    - Best to avoid unstable systems if possible"
   ]
  },
  {
   "cell_type": "code",
   "execution_count": null,
   "id": "f3bb80a1",
   "metadata": {},
   "outputs": [],
   "source": []
  }
 ],
 "metadata": {
  "celltoolbar": "Slideshow",
  "kernelspec": {
   "display_name": "Python 3",
   "language": "python",
   "name": "python3"
  },
  "language_info": {
   "codemirror_mode": {
    "name": "ipython",
    "version": 3
   },
   "file_extension": ".py",
   "mimetype": "text/x-python",
   "name": "python",
   "nbconvert_exporter": "python",
   "pygments_lexer": "ipython3",
   "version": "3.8.8"
  }
 },
 "nbformat": 4,
 "nbformat_minor": 5
}
