{
 "cells": [
  {
   "cell_type": "markdown",
   "id": "b040ba6f",
   "metadata": {
    "slideshow": {
     "slide_type": "slide"
    }
   },
   "source": [
    "# Lecture 4 Regression Continued\n",
    "\n",
    "- Other Cost Functions\n",
    "- Using minimize instead of our gradient descent method to parameterize equation\n",
    "- Using minimize to parameterize a second order, linear ODE model"
   ]
  },
  {
   "cell_type": "markdown",
   "id": "b0185807",
   "metadata": {
    "slideshow": {
     "slide_type": "slide"
    }
   },
   "source": [
    "# Regression : Things we should understand\n",
    "\n",
    "- Cost function selection\n",
    "    - Weighting (no universal method to this)\n",
    "- Most regression algorithms only act on the error function!\n",
    "    - The same regression tool can be used to parameterize algrebriac equations, quadratic equations, and ODEs!\n",
    "- Regression is hard - and OFTEN fails\n",
    "    - We'll try some slightly harder regressions today\n",
    "- Not all parameters we are trying to fit are important\n",
    "    - Sensivity analysis\n",
    "- And lastly, regression ultimately involves understanding data and error\n",
    "    - We need to be able to determine when data and the fits are signficant...STATISTICS!"
   ]
  },
  {
   "cell_type": "markdown",
   "id": "9da4352d",
   "metadata": {
    "slideshow": {
     "slide_type": "slide"
    }
   },
   "source": [
    "# Other cost functions\n",
    "\n",
    "- Some of squared error is not the end all solutions\n",
    "- Other approaches:\n",
    "    - Root mean squared error : RMSE  = $\\sqrt{\\frac{SSE}{N}}$ where N is the number of observations\n",
    "    - Normalized RMSE = $\\frac{RMSE}{y_{max}-y_{min}}$\n",
    "- Look at homework 6...the squared part makes finding reasonable learning rates very hard! \n",
    "    - Try RMSE instead of SSE, how does it impact the learning rate?\n",
    "- However, there is no consistent means of normalization and it will often be problem dependent\n",
    "- BUT, the importance of normalization cannot be stressed enough. \n",
    "    - What happens if you're trying to fit two outcomes, $y_1$ and $y_2$ and the mean of $y_1$ is 0.1 and the mean of $y_2$ is 27 million? "
   ]
  },
  {
   "cell_type": "markdown",
   "id": "29f57510",
   "metadata": {
    "slideshow": {
     "slide_type": "slide"
    }
   },
   "source": [
    "# Basic regression in Python: FSOLVE vs Minimize\n",
    "\n",
    "- Hint: they are basically the same things\n",
    "    - Fsolve default uses \"Powell's Method\"\n",
    "    - Minimize default will use other approaches but can be set to use Powell's as well\n",
    "    - What is Powells? It's gradient descent paired with another approach called Gauss-Newton\n",
    "- The primary difference is that minimize has the ability to include bounds and constraints\n",
    "    - Bounds are ranges in which the parameters can take \n",
    "    - Constraints; e.g. x1 + x2 != 20\n",
    "    "
   ]
  },
  {
   "cell_type": "markdown",
   "id": "44046f4c",
   "metadata": {
    "slideshow": {
     "slide_type": "slide"
    }
   },
   "source": [
    "# Simple regression example with minimize\n",
    "\n",
    "*Courtesy of Dr. Kitchins*\n",
    "\n",
    "Suppose we have the following data that shows how the energy of a material depends on the volume of the material."
   ]
  },
  {
   "cell_type": "code",
   "execution_count": 1,
   "id": "b96c7b4d",
   "metadata": {
    "slideshow": {
     "slide_type": "slide"
    }
   },
   "outputs": [
    {
     "data": {
      "text/plain": [
       "Text(0, 0.5, 'E')"
      ]
     },
     "execution_count": 1,
     "metadata": {},
     "output_type": "execute_result"
    },
    {
     "data": {
      "image/png": "[encoded data removed]",
      "text/plain": [
       "<Figure size 432x288 with 1 Axes>"
      ]
     },
     "metadata": {
      "needs_background": "light"
     },
     "output_type": "display_data"
    }
   ],
   "source": [
    "import numpy as np\n",
    "%matplotlib inline\n",
    "import matplotlib.pyplot as plt\n",
    "\n",
    "volumes = np.array([13.71, 14.82, 16.0, 17.23, 18.52])\n",
    "energies = np.array([-56.29, -56.41, -56.46, -56.463,-56.41])\n",
    "\n",
    "plt.plot(volumes, energies, 'bo')\n",
    "plt.xlabel('V')\n",
    "plt.ylabel('E')"
   ]
  },
  {
   "cell_type": "markdown",
   "id": "8f31358f",
   "metadata": {
    "slideshow": {
     "slide_type": "slide"
    }
   },
   "source": [
    "In chemical engieering, we often want to fit an equation of state to this data. We will use this equation:\n",
    "\n",
    "$E = E_0 + \\frac{B_0 V}{B_0'}\\left(\\frac{(V_0 / V)^{B_0'}}{B_0' - 1} + 1 \\right) - \\frac{V_0 B_0}{B_0' - 1}$\n",
    "\n",
    "from [https://journals.aps.org/prb/pdf/10.1103/PhysRevB.28.5480](https://journals.aps.org/prb/pdf/10.1103/PhysRevB.28.5480). In this model there are four parameters:\n",
    "\n",
    "| name|desc|\n",
    "|---|---|\n",
    "| E\\_0|energy at the minimim|\n",
    "| B\\_0|bulk modulus|\n",
    "| B\\_0'|first derivative of the bulk modulus|\n",
    "| V\\_0|volume at the energy minimum|\n",
    "\n",
    "We would like to find the value of these parameters that best fits the data above. That means, find the set of parameters that minimize the sum of the squared errors between the model and data.\n",
    "\n",
    "First we need a function that will use the parameters and return the energy for a given volume.\n",
    "\n"
   ]
  },
  {
   "cell_type": "code",
   "execution_count": 2,
   "id": "b450eed6",
   "metadata": {
    "slideshow": {
     "slide_type": "slide"
    }
   },
   "outputs": [
    {
     "data": {
      "text/plain": [
       "array([-55.95396512, -55.9854448 , -56.01576305, -56.04493457,\n",
       "       -56.07297374, -56.09989473, -56.12571141, -56.15043744,\n",
       "       -56.1740862 , -56.19667087, -56.21820436, -56.23869938,\n",
       "       -56.25816839, -56.27662367, -56.29407727, -56.31054101,\n",
       "       -56.32602655, -56.34054532, -56.35410858, -56.36672737,\n",
       "       -56.37841258, -56.38917489, -56.39902482, -56.40797271,\n",
       "       -56.41602873, -56.42320289, -56.42950503, -56.43494484,\n",
       "       -56.43953184, -56.44327541, -56.44618477, -56.44826902,\n",
       "       -56.44953708, -56.44999775, -56.4496597 , -56.44853145,\n",
       "       -56.4466214 , -56.4439378 , -56.4404888 , -56.43628241,\n",
       "       -56.43132653, -56.42562893, -56.41919727, -56.41203909,\n",
       "       -56.40416182, -56.39557278, -56.38627918, -56.37628814,\n",
       "       -56.36560665, -56.35424162])"
      ]
     },
     "execution_count": 2,
     "metadata": {},
     "output_type": "execute_result"
    }
   ],
   "source": [
    "def Murnaghan(parameters, vol):\n",
    "    'From PRB 28,5480 (1983)'\n",
    "    E0, B0, BP, V0 = parameters\n",
    "    # the backslash here means the line is contined on the next line.\n",
    "    # or use () around the whole expression\n",
    "    E = (E0 + B0 * vol / BP * \n",
    "        (((V0 / vol)**BP) / (BP - 1) + 1) - V0 * B0 / (BP - 1.))\n",
    "\n",
    "    return E\n",
    "\n",
    "import numpy as np\n",
    "Murnaghan((-56.45, 2, 1.2, 16.7), np.linspace(14, 18))"
   ]
  },
  {
   "cell_type": "markdown",
   "id": "cff53fee",
   "metadata": {},
   "source": []
  },
  {
   "cell_type": "markdown",
   "id": "a614846f",
   "metadata": {
    "slideshow": {
     "slide_type": "slide"
    }
   },
   "source": [
    "Next, we need a function that computes the summed squared errors for a set of parameters. The use of squared errors is preferable in many cases to the absolute values because it has a continuous derivative. We will learn more about this later.\n",
    "\n"
   ]
  },
  {
   "cell_type": "code",
   "execution_count": 3,
   "id": "02bb6438",
   "metadata": {
    "slideshow": {
     "slide_type": "slide"
    }
   },
   "outputs": [],
   "source": [
    "def objective(pars):\n",
    "    err = energies - Murnaghan(pars, volumes)\n",
    "    return np.sum(err**2)  # we return the summed squared error directly"
   ]
  },
  {
   "cell_type": "markdown",
   "id": "96910a73",
   "metadata": {
    "slideshow": {
     "slide_type": "slide"
    }
   },
   "source": [
    "# Random guessing isn't helpful\n",
    "\n",
    "Finally,  we need an initial guess to start the minimization. \n",
    "\n",
    "*As with all minimization problems, this can be the most difficult step.* Random guessing can make parameterization very hard!!\n",
    "\n",
    "\n"
   ]
  },
  {
   "cell_type": "code",
   "execution_count": 4,
   "id": "83a1bc95",
   "metadata": {
    "slideshow": {
     "slide_type": "slide"
    }
   },
   "outputs": [
    {
     "name": "stderr",
     "output_type": "stream",
     "text": [
      "<ipython-input-2-6fcf3a4ed4eb>:7: RuntimeWarning: divide by zero encountered in true_divide\n",
      "  (((V0 / vol)**BP) / (BP - 1) + 1) - V0 * B0 / (BP - 1.))\n",
      "<ipython-input-2-6fcf3a4ed4eb>:7: RuntimeWarning: divide by zero encountered in double_scalars\n",
      "  (((V0 / vol)**BP) / (BP - 1) + 1) - V0 * B0 / (BP - 1.))\n",
      "<ipython-input-2-6fcf3a4ed4eb>:6: RuntimeWarning: invalid value encountered in subtract\n",
      "  E = (E0 + B0 * vol / BP *\n",
      "<ipython-input-2-6fcf3a4ed4eb>:7: RuntimeWarning: divide by zero encountered in true_divide\n",
      "  (((V0 / vol)**BP) / (BP - 1) + 1) - V0 * B0 / (BP - 1.))\n",
      "<ipython-input-2-6fcf3a4ed4eb>:7: RuntimeWarning: divide by zero encountered in double_scalars\n",
      "  (((V0 / vol)**BP) / (BP - 1) + 1) - V0 * B0 / (BP - 1.))\n",
      "<ipython-input-2-6fcf3a4ed4eb>:6: RuntimeWarning: invalid value encountered in subtract\n",
      "  E = (E0 + B0 * vol / BP *\n"
     ]
    },
    {
     "name": "stdout",
     "output_type": "stream",
     "text": [
      "      fun: nan\n",
      " hess_inv: array([[1, 0, 0, 0],\n",
      "       [0, 1, 0, 0],\n",
      "       [0, 0, 1, 0],\n",
      "       [0, 0, 0, 1]])\n",
      "      jac: array([nan, nan, nan, nan])\n",
      "  message: 'NaN result encountered.'\n",
      "     nfev: 5\n",
      "      nit: 0\n",
      "     njev: 1\n",
      "   status: 3\n",
      "  success: False\n",
      "        x: array([1., 1., 1., 1.])\n"
     ]
    },
    {
     "data": {
      "image/png": "[encoded data removed]",
      "text/plain": [
       "<Figure size 432x288 with 1 Axes>"
      ]
     },
     "metadata": {
      "needs_background": "light"
     },
     "output_type": "display_data"
    }
   ],
   "source": [
    "from scipy.optimize import minimize\n",
    "\n",
    "x0 = [1,1,1,1]; # Being lazy with a random guess\n",
    "\n",
    "sol = minimize(objective, x0);\n",
    "print(sol);\n",
    "\n",
    "plt.plot(volumes, energies, 'bo', label='Data');\n",
    "vfit = np.linspace(min(volumes), max(volumes));\n",
    "plt.plot(vfit, Murnaghan(sol.x, vfit), label='fit');\n",
    "plt.legend();\n",
    "plt.xlabel('V');\n",
    "plt.ylabel('E');"
   ]
  },
  {
   "cell_type": "markdown",
   "id": "54bf0f1d",
   "metadata": {
    "slideshow": {
     "slide_type": "slide"
    }
   },
   "source": [
    "# It's best to use your knowledge of the system to derive some estimates!\n",
    "\n",
    "**Random guessing is always best to AVOID.**\n",
    "\n",
    "Instead, use properties of the model and data where possible to make these guesses. We have no way to plot anything in four dimensions, so we use analysis instead.\n",
    "\n",
    "We can derive some of these from the data we have. First, we can get the minimum in energy and the corresponding volume that we know from the data. These are not the final answer, but they are a good guess for it.\n",
    "\n",
    "The B<sub>0</sub> parameter is related to the curvature at the minimum, which is the second derivative. We get that from repeated calls to `numpy.gradient`. Finally, $B_0'$ is related to the derivative of $B$ at the minimum, so we estimate that too."
   ]
  },
  {
   "cell_type": "code",
   "execution_count": 5,
   "id": "8c342ab8",
   "metadata": {
    "slideshow": {
     "slide_type": "slide"
    }
   },
   "outputs": [
    {
     "data": {
      "text/plain": [
       "[-56.463, 0.02575384116153356, -0.00900405886406903, 17.23]"
      ]
     },
     "execution_count": 5,
     "metadata": {},
     "output_type": "execute_result"
    }
   ],
   "source": [
    "imin = np.argmin(energies)\n",
    "dedv = np.gradient(energies, volumes)\n",
    "B = np.gradient(dedv, volumes)\n",
    "Bp = np.gradient(B, volumes)\n",
    "\n",
    "\n",
    "x0 = [energies[imin],\n",
    "      B[imin],\n",
    "      Bp[imin],\n",
    "      volumes[imin]]\n",
    "\n",
    "x0"
   ]
  },
  {
   "cell_type": "markdown",
   "id": "b7ceda0c",
   "metadata": {
    "slideshow": {
     "slide_type": "slide"
    }
   },
   "source": [
    "# With some understanding, now ready for our fit!"
   ]
  },
  {
   "cell_type": "code",
   "execution_count": 6,
   "id": "aabb2f52",
   "metadata": {
    "slideshow": {
     "slide_type": "slide"
    }
   },
   "outputs": [
    {
     "name": "stdout",
     "output_type": "stream",
     "text": [
      "      fun: 1.4912965292000374e-05\n",
      " hess_inv: array([[ 3.03655262e-01, -3.02117479e+00,  8.02411484e+01,\n",
      "        -2.40892423e+00],\n",
      "       [-3.02117479e+00,  5.26826564e+01, -1.63190814e+03,\n",
      "         4.74560513e+01],\n",
      "       [ 8.02411484e+01, -1.63190814e+03,  7.04847699e+04,\n",
      "        -2.81155533e+03],\n",
      "       [-2.40892423e+00,  4.74560513e+01, -2.81155533e+03,\n",
      "         1.54396029e+02]])\n",
      "      jac: array([ 3.45420619e-06,  1.37083941e-06,  4.54076599e-09, -5.27809448e-07])\n",
      "  message: 'Optimization terminated successfully.'\n",
      "     nfev: 180\n",
      "      nit: 31\n",
      "     njev: 36\n",
      "   status: 0\n",
      "  success: True\n",
      "        x: array([-56.46839792,   0.57236182,   2.74085527,  16.55900229])\n"
     ]
    },
    {
     "data": {
      "image/png": "[encoded data removed]",
      "text/plain": [
       "<Figure size 432x288 with 1 Axes>"
      ]
     },
     "metadata": {
      "needs_background": "light"
     },
     "output_type": "display_data"
    }
   ],
   "source": [
    "from scipy.optimize import minimize\n",
    "sol = minimize(objective, x0);\n",
    "print(sol);\n",
    "\n",
    "plt.plot(volumes, energies, 'bo', label='Data');\n",
    "vfit = np.linspace(min(volumes), max(volumes));\n",
    "plt.plot(vfit, Murnaghan(sol.x, vfit), label='fit');\n",
    "plt.legend();\n",
    "plt.xlabel('V');\n",
    "plt.ylabel('E');"
   ]
  },
  {
   "cell_type": "markdown",
   "id": "b220e821",
   "metadata": {
    "slideshow": {
     "slide_type": "slide"
    }
   },
   "source": [
    "# Training ODE models with minimize\n",
    "\n",
    "- First, we are using minimize as an example. There are 1000's of algorithms, all with weakness and benefits.\n",
    "- In ChE, most of our models are differential equations that have been developed using conservations principles.\n",
    "- Very frequently, most if not all of the parameters of the model are unknown and must be estimated.\n",
    "\n",
    "\\begin{align}\n",
    "\\frac{dx}{dt} = y\\\\\n",
    "\\frac{dy}{dt} = -x - .2y\\\\\n",
    "\\end{align}\n",
    "\n",
    "Let's use this system to generate artificial data, and then go backwards and use regression to estimate our parameters. "
   ]
  },
  {
   "cell_type": "markdown",
   "id": "1d176249",
   "metadata": {
    "slideshow": {
     "slide_type": "slide"
    }
   },
   "source": [
    "# Step 1: create fake data\n",
    "\n",
    "Below :\n",
    "\n",
    "- Write the code to simulate the system from time = 0 to 30 with step sizes equal to 0.5.\n",
    "- Code will have to be able to take in parameter values into the ODEs, so that different values can be tested.\n",
    "- Collect the data into a variable call training_data.\n",
    "- For completeness, plot the training data."
   ]
  },
  {
   "cell_type": "code",
   "execution_count": 7,
   "id": "fac12eee",
   "metadata": {
    "slideshow": {
     "slide_type": "slide"
    }
   },
   "outputs": [
    {
     "data": {
      "text/plain": [
       "<matplotlib.legend.Legend at 0x1e8119f6520>"
      ]
     },
     "execution_count": 7,
     "metadata": {},
     "output_type": "execute_result"
    },
    {
     "data": {
      "image/png": "[encoded data removed]",
      "text/plain": [
       "<Figure size 432x288 with 1 Axes>"
      ]
     },
     "metadata": {
      "needs_background": "light"
     },
     "output_type": "display_data"
    }
   ],
   "source": [
    "from scipy.integrate import odeint \n",
    "def odes_2(v,t,a,b,c): \n",
    "    #odeint always has to have some t to run correctly\n",
    "\n",
    "    x = v[0]\n",
    "    y = v[1]\n",
    "    \n",
    "    f = [a*y, b*x + c*y]\n",
    "    return f \n",
    "\n",
    "t_steps = np.arange(0,30,2)\n",
    "\n",
    "ic_3 = [1,1]\n",
    "training_data = odeint(odes_2, ic_3, t_steps,args= (1,-1,-.2))\n",
    "\n",
    "plt.plot(t_steps, training_data[:,0], color = 'm')\n",
    "plt.plot(t_steps, training_data[:,1], color = 'g')\n",
    "plt.xlabel(\"Time\")\n",
    "plt.ylabel(\"x, y\")\n",
    "plt.legend(['x', 'y'])"
   ]
  },
  {
   "cell_type": "markdown",
   "id": "07b8edbf",
   "metadata": {
    "slideshow": {
     "slide_type": "slide"
    }
   },
   "source": [
    "# Below, write the function to define the RMSE.\n",
    "\n",
    "**Be sure to test some values**\n"
   ]
  },
  {
   "cell_type": "code",
   "execution_count": 8,
   "id": "cdd5f395",
   "metadata": {
    "slideshow": {
     "slide_type": "slide"
    }
   },
   "outputs": [
    {
     "data": {
      "text/plain": [
       "0.0"
      ]
     },
     "execution_count": 8,
     "metadata": {},
     "output_type": "execute_result"
    }
   ],
   "source": [
    "def RMSE(params):\n",
    "    a, b, c = params;\n",
    "    ODE_output = odeint(odes_2, ic_3, t_steps, args = (a,b,c));\n",
    "    err = training_data - ODE_output\n",
    "    return np.sqrt(np.sum(err**2))  # we return the summed squared error directly\n",
    "\n",
    "RMSE([1,-1.0,-.2])"
   ]
  },
  {
   "cell_type": "markdown",
   "id": "abdce4be",
   "metadata": {
    "slideshow": {
     "slide_type": "slide"
    }
   },
   "source": [
    "# Now use minimize to estimate parameters.\n",
    "\n",
    "- Since we have no other information, use (a,b,c) = (1,1,1) as a first guess.\n",
    "- Once successful, plot the results.\n",
    "- Then, re run your routine but instead of taking steps size of .5, take step sizes of 10. What happens?"
   ]
  },
  {
   "cell_type": "code",
   "execution_count": 9,
   "id": "afb00542",
   "metadata": {
    "slideshow": {
     "slide_type": "slide"
    }
   },
   "outputs": [
    {
     "name": "stdout",
     "output_type": "stream",
     "text": [
      "      fun: 6.687430234749575e-07\n",
      " hess_inv: array([[ 8.53299426e-07,  7.75344951e-07, -4.77847206e-08],\n",
      "       [ 7.75344951e-07,  7.18947010e-07, -4.14589697e-08],\n",
      "       [-4.77847206e-08, -4.14589697e-08,  1.73737811e-08]])\n",
      "      jac: array([-0.87307772,  1.07016316,  0.35410917])\n",
      "  message: 'Desired error not necessarily achieved due to precision loss.'\n",
      "     nfev: 399\n",
      "      nit: 34\n",
      "     njev: 97\n",
      "   status: 2\n",
      "  success: False\n",
      "        x: array([ 0.99999948, -1.00000047, -0.2       ])\n"
     ]
    }
   ],
   "source": [
    "sol = minimize(RMSE, x0 = (1,-1,-1));\n",
    "print(sol);\n",
    "\n",
    "# plt.plot(volumes, energies, 'bo', label='Data');\n",
    "# vfit = np.linspace(min(volumes), max(volumes));\n",
    "# plt.plot(vfit, Murnaghan(sol.x, vfit), label='fit');\n",
    "# plt.legend();\n",
    "# plt.xlabel('V');\n",
    "# plt.ylabel('E');"
   ]
  },
  {
   "cell_type": "markdown",
   "id": "1a5efe60",
   "metadata": {
    "slideshow": {
     "slide_type": "slide"
    }
   },
   "source": [
    "# What we can learn:\n",
    "- Minimize can fit the parameters of our ODE but will have to try several first guesses.\n",
    "    - Hopefully should always at least know the sign of the parameter\n",
    "- For a **linear ODE mode**, as we sample fewer and fewer time points, we can still basically fit the ODEs\n",
    "    - This is because the steady state of a linear ODE is unique! Only 1 set of parameters will lead to a SS value we see here and therefore, we do not need a lot of dynamics measurements.\n",
    "    - Fitting linear ODEs is typically easy.\n",
    "    - As you can imagine, **this is not typically true for nonlinear ODEs!!**"
   ]
  }
 ],
 "metadata": {
  "celltoolbar": "Slideshow",
  "kernelspec": {
   "display_name": "Python 3.9.12 ('base')",
   "language": "python",
   "name": "python3"
  },
  "language_info": {
   "codemirror_mode": {
    "name": "ipython",
    "version": 3
   },
   "file_extension": ".py",
   "mimetype": "text/x-python",
   "name": "python",
   "nbconvert_exporter": "python",
   "pygments_lexer": "ipython3",
   "version": "3.9.12"
  },
  "vscode": {
   "interpreter": {
    "hash": "3ea7c28dc7569e024bd9f57d5fd933e532fb588a53e331ae301b88ac3d4d46d7"
   }
  }
 },
 "nbformat": 4,
 "nbformat_minor": 5
}
