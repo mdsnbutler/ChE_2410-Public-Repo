{
 "cells": [
  {
   "cell_type": "markdown",
   "id": "6bfcf881",
   "metadata": {},
   "source": [
    "# Homework 6 Regression Refresher\n",
    "\n",
    "In class, we considered a very simply algorithm called gradient descent that we used to estimate the parameters of a simple linear model. But we left many considerations open. These include:\n",
    "- Normalization \n",
    "    - We saw that the SSE is a very big number in our example, leading us to choose awkwardly small learning rates. Normaling the error may help us use more reasonably sized learning rates.\n",
    "- When to stop\n",
    "    - We can tell the algorithm to stop after a set number of iterations or, something smarter, tell it to stop when it begins to take very small step sizes\n",
    "- Multiple solutions\n",
    "    - It should be obvious that gradient descent, as an algorithm, doesn't do much \"thinking\". \n",
    "    - If there are multiple solutions, it will only find one\n",
    "        - This is similar to issues we've seen before with the fsolve and roots commands.\n",
    "        \n",
    "\n",
    "## Problem 1\n",
    "\n",
    "Regression algorithms ultimately search for minima. This can be where an error function is minimized (as we saw in class) or when a polynomial equation is minimized. Using the code from our lecture, adapt the code in order to indentify the roots of the following equation: \n",
    "\n",
    "$x^3 - 6x^2 +11x = 6$\n",
    "    \n",
    "Since the polynomial will have more than 1 solution, be sure to consider multiple starting guesses. Use the \"roots\" function from numpy to check your answer."
   ]
  },
  {
   "cell_type": "code",
   "execution_count": 6,
   "id": "2c255901",
   "metadata": {},
   "outputs": [
    {
     "name": "stdout",
     "output_type": "stream",
     "text": [
      "Our best value for our slope is  2.9816914955546068  with SSE 0.03561754192083555\n"
     ]
    },
    {
     "data": {
      "image/png": "[encoded data removed]",
      "text/plain": [
       "<Figure size 432x288 with 1 Axes>"
      ]
     },
     "metadata": {
      "needs_background": "light"
     },
     "output_type": "display_data"
    }
   ],
   "source": [
    "import numpy as np;\n",
    "import math\n",
    "import matplotlib.pyplot as plt\n",
    "# This makes the plots appear inside the notebook\n",
    "%matplotlib inline\n",
    "\n",
    "def f(x):\n",
    "    f = x**3-6*x**2+11*x-6;\n",
    "    return f;\n",
    "\n",
    "# In this case, the error is simple f since we want the solution f = 0. All we need is the derivative. But I will adapt the\n",
    "# code from lecture for clearity\n",
    "\n",
    "def SSE(m):\n",
    "    ERR = 0 -f(m);\n",
    "    SSE = np.sum(ERR**2);\n",
    "    \n",
    "    # discuss RSS in class.\n",
    "    return np.sqrt(SSE);\n",
    "\n",
    "def derivative(m):\n",
    "    DERIVATIVE = (SSE(m+0.01)-SSE(m))/0.01;\n",
    "    return DERIVATIVE\n",
    "\n",
    "\n",
    "\n",
    "n = 0;\n",
    "current_m = 5; # Our initial guess\n",
    "rate = 0.01; # Try raising in very small increments, from 0.000001 to 0.00001\n",
    "\n",
    "# Plot our initial guess' SSE and label zero\n",
    "plt.plot(current_m, SSE(current_m),'o');\n",
    "#plt.text(current_m, SSE(current_m),n);\n",
    "\n",
    "while n < 1000:\n",
    "    new_m = current_m - rate * derivative(current_m);\n",
    "    current_m=new_m;\n",
    "    # print(new_m);\n",
    "    n = n + 1;\n",
    "    plt.plot(new_m, SSE(new_m),'o');\n",
    "    #plt.text(new_m, SSE(new_m),n);\n",
    "    \n",
    "print(\"Our best value for our slope is \", new_m, \" with SSE\", SSE(new_m))\n",
    "plt.xlabel(\"m\");\n",
    "plt.ylabel(\"Sum of Squared Error\");\n",
    "\n"
   ]
  },
  {
   "cell_type": "code",
   "execution_count": 2,
   "id": "40d4a774",
   "metadata": {},
   "outputs": [
    {
     "data": {
      "text/plain": [
       "99.86080499999997"
      ]
     },
     "execution_count": 2,
     "metadata": {},
     "output_type": "execute_result"
    }
   ],
   "source": [
    "SSE(np.arange(0,1,.1))"
   ]
  },
  {
   "cell_type": "code",
   "execution_count": 8,
   "id": "762ceee2",
   "metadata": {},
   "outputs": [
    {
     "data": {
      "text/plain": [
       "Text(0, 0.5, 'Sum of Squared Error')"
      ]
     },
     "execution_count": 8,
     "metadata": {},
     "output_type": "execute_result"
    },
    {
     "data": {
      "image/png": "[encoded data removed]",
      "text/plain": [
       "<Figure size 432x288 with 1 Axes>"
      ]
     },
     "metadata": {
      "needs_background": "light"
     },
     "output_type": "display_data"
    }
   ],
   "source": [
    "for m in np.arange(.8,3.2,.05):\n",
    "     plt.plot(m, SSE(m),'o');\n",
    " \n",
    "plt.rcParams.update({'font.size': 14})  # increase the font size\n",
    "plt.xlabel(\"m\")\n",
    "plt.ylabel(\"RSS\");"
   ]
  }
 ],
 "metadata": {
  "kernelspec": {
   "display_name": "Python 3",
   "language": "python",
   "name": "python3"
  },
  "language_info": {
   "codemirror_mode": {
    "name": "ipython",
    "version": 3
   },
   "file_extension": ".py",
   "mimetype": "text/x-python",
   "name": "python",
   "nbconvert_exporter": "python",
   "pygments_lexer": "ipython3",
   "version": "3.8.8"
  }
 },
 "nbformat": 4,
 "nbformat_minor": 5
}
