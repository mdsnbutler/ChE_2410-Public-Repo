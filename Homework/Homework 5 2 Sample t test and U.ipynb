{
 "cells": [
  {
   "cell_type": "markdown",
   "id": "78d343fd",
   "metadata": {},
   "source": [
    "# Problem 1: Null distributions of a one-sample vs two sample t\n",
    "\n",
    "We've spent a lot of time discussing the \"null distribution\".\n",
    "- The null hypothesis for a 1 sample t test is that the mean of the normal population our data comes from is equal to our hypothesized mean, $\\mu$. Therefore, the null distribution is the distribution of t values we expect to observe if we randomly sample from a normal population that has a mean equal to our hypothesized mean, $\\mu$.\n",
    "- The null hypothesis for a 2 sample t test can be more nuanced, depending on the assumptions we make about each samples standard deviations. Here, we will consider the independent, equal sample size, equal variance two-sample t test.\n",
    "\n",
    "## Confirm we can calculate t correctly\n",
    "\n",
    "Let's start by firsting making sure we can calculate t correctly. For this problem, let's use the heights of players (in centimeters) randomly selected from the LA Lakers and Boston Celtics rosters:\n",
    "\n",
    "Lakers = [200, 210, 220,225,215];\n",
    "\n",
    "Heat = [190, 220, 193, 200, 190];\n",
    "\n",
    "In the space below, calculate the 1 sample t value for the Lakers, assuming their average height is 195 cm, and the two-sample t value for this data. Confirm your answers using ttest_1samp and ttest_ind. Be sure to **note** the technicality discussion on the last slide of Lecture 11."
   ]
  },
  {
   "cell_type": "code",
   "execution_count": 2,
   "id": "7f0a9852",
   "metadata": {},
   "outputs": [
    {
     "name": "stdout",
     "output_type": "stream",
     "text": [
      "Via stats ttest we find: Ttest_indResult(statistic=2.1679391976356874, pvalue=0.0644050922932436) for the Lakers only ttest: Ttest_1sampResult(statistic=4.4174102722651325, pvalue=0.011534048799787354) and by linear regression we find:                             OLS Regression Results                            \n",
      "==============================================================================\n",
      "Dep. Variable:                      y   R-squared:                       0.370\n",
      "Model:                            OLS   Adj. R-squared:                  0.291\n",
      "Method:                 Least Squares   F-statistic:                     4.700\n",
      "Date:                Tue, 04 Oct 2022   Prob (F-statistic):             0.0620\n",
      "Time:                        15:31:37   Log-Likelihood:                -37.261\n",
      "No. Observations:                  10   AIC:                             78.52\n",
      "Df Residuals:                       8   BIC:                             79.13\n",
      "Df Model:                           1                                         \n",
      "Covariance Type:            nonrobust                                         \n",
      "==============================================================================\n",
      "                 coef    std err          t      P>|t|      [0.025      0.975]\n",
      "------------------------------------------------------------------------------\n",
      "const        198.6000      5.023     39.539      0.000     187.017     210.183\n",
      "x1            15.4000      7.104      2.168      0.062      -0.981      31.781\n",
      "==============================================================================\n",
      "Omnibus:                        1.804   Durbin-Watson:                   2.175\n",
      "Prob(Omnibus):                  0.406   Jarque-Bera (JB):                0.851\n",
      "Skew:                           0.700   Prob(JB):                        0.654\n",
      "Kurtosis:                       2.713   Cond. No.                         2.62\n",
      "==============================================================================\n",
      "\n",
      "Notes:\n",
      "[1] Standard Errors assume that the covariance matrix of the errors is correctly specified.\n"
     ]
    },
    {
     "name": "stderr",
     "output_type": "stream",
     "text": [
      "c:\\Users\\mdsnb\\anaconda3\\lib\\site-packages\\scipy\\stats\\stats.py:1541: UserWarning: kurtosistest only valid for n>=20 ... continuing anyway, n=10\n",
      "  warnings.warn(\"kurtosistest only valid for n>=20 ... continuing \"\n"
     ]
    }
   ],
   "source": [
    "import scipy.stats as stats\n",
    "import statsmodels.api as sm\n",
    "import numpy as np\n",
    "\n",
    "#arrays\n",
    "l = [200, 210, 220, 225, 215]\n",
    "h = [190, 220, 193, 200, 190]\n",
    "lh = np.concatenate([l, h])\n",
    "\n",
    "#direct t test\n",
    "ttestl = stats.ttest_1samp(l,195)\n",
    "ttestdirect = stats.ttest_ind(l, h, equal_var = False, alternative = 'two-sided')\n",
    "\n",
    "#via linear regression\n",
    "x = [1, 1, 1, 1, 1, 0, 0, 0, 0, 0]\n",
    "x = sm.add_constant(x)\n",
    "model = sm.OLS(lh, x).fit()\n",
    "\n",
    "#print t test\n",
    "print(\"Via stats ttest we find:\", ttestdirect, \"for the Lakers only ttest:\", ttestl, \"and by linear regression we find:\", model.summary())"
   ]
  },
  {
   "cell_type": "markdown",
   "id": "a2a25437",
   "metadata": {},
   "source": [
    "## Compare t distributions for 1 and 2 sample tests\n",
    "\n",
    "- In the space below, write the code necessary to create null distributions for single and two-sample t tests when:\n",
    "    - For the single sample t test, you are collecting 9 samples\n",
    "    - For the two sample t test, you are collected 5 samples for each group.\n",
    "- Produce density plots to compare the two distributions.\n",
    "    - Be sure to select enough samples and to adjust bins sizes as needed so that the density plots are clear and stable (meaning each time you run it, you basically get the same answer).\n",
    "    - Can use density feature of plt.hist or Seaborn's  sns function.\n",
    "    - On the figure, clearly indicate the degrees of freedom for the specific t test\n",
    "    - Unclear figures will not receive credit.\n"
   ]
  },
  {
   "cell_type": "code",
   "execution_count": 3,
   "id": "600a5a3d",
   "metadata": {},
   "outputs": [
    {
     "data": {
      "text/plain": [
       "Text(0.5, 1.0, 'Two sample t test, dof = 8')"
      ]
     },
     "execution_count": 3,
     "metadata": {},
     "output_type": "execute_result"
    },
    {
     "data": {
      "image/png": "[encoded data removed]",
      "text/plain": [
       "<Figure size 432x288 with 1 Axes>"
      ]
     },
     "metadata": {
      "needs_background": "light"
     },
     "output_type": "display_data"
    },
    {
     "data": {
      "image/png": "[encoded data removed]",
      "text/plain": [
       "<Figure size 432x288 with 1 Axes>"
      ]
     },
     "metadata": {
      "needs_background": "light"
     },
     "output_type": "display_data"
    }
   ],
   "source": [
    "import matplotlib.pyplot as plt\n",
    "\n",
    "#variables\n",
    "mu = 10\n",
    "sigma = 3\n",
    "singlesamppop = 9\n",
    "twosamppop = 5\n",
    "singlet = []\n",
    "twot = []\n",
    "bins = 100\n",
    "\n",
    "#for loop to produce samples and t values from those samples\n",
    "for k in range(1,10000):\n",
    "\n",
    "    #looped variables\n",
    "    singlesamp = np.random.normal(mu, sigma, singlesamppop)\n",
    "    twosamp1 = np.random.normal(mu, sigma, twosamppop)\n",
    "    twosamp2 = np.random.normal(mu, sigma, twosamppop)\n",
    "    \n",
    "    #array creation for single sample t values\n",
    "    singlet.append(((np.mean(singlesamp)-mu)/np.std(singlesamp, ddof = 1))*np.sqrt(singlesamppop))\n",
    "    \n",
    "    #array creation for two sample t values\n",
    "    twosampstd = np.sqrt((np.std(twosamp1, ddof = 1)+np.std(twosamp2, ddof = 1))/2)\n",
    "    twot.append((np.mean(twosamp1)-np.mean(twosamp2))/(twosampstd*np.sqrt(2/twosamppop)))\n",
    "\n",
    "#plotting single sample t values histogram\n",
    "plt.subplots()\n",
    "plt.hist(singlet, density = True, bins = bins)\n",
    "plt.xlim(-5, 5)\n",
    "plt.title('Single sample t test, dof = 8')\n",
    "\n",
    "#printing two sample t values histogram\n",
    "plt.subplots()\n",
    "plt.hist(twot, density = True, bins = bins)\n",
    "plt.xlim(-5, 5)\n",
    "plt.title('Two sample t test, dof = 8')"
   ]
  },
  {
   "cell_type": "markdown",
   "id": "9551881e",
   "metadata": {},
   "source": [
    "Based on your figure(s) above, how do the two distributions compare? **Comment here:**"
   ]
  },
  {
   "cell_type": "markdown",
   "id": "22bd83ed",
   "metadata": {},
   "source": [
    "## Compute p value for two-sample t test\n",
    "- Using your null t distribution for your two sample t test, what is the likelihood that the heights of the Lakers and Heat come from populations with the same means?\n",
    "- Check your answer using ttest_ind"
   ]
  },
  {
   "cell_type": "code",
   "execution_count": 4,
   "id": "f59d1e0d",
   "metadata": {},
   "outputs": [
    {
     "name": "stdout",
     "output_type": "stream",
     "text": [
      "Our p value is: 0.988 which means that we cannot say confidently that the two samples are from the same populations\n"
     ]
    }
   ],
   "source": [
    "#calculate the stdev of these two populations for a two sample t test\n",
    "stdev = np.sqrt((np.std(l, ddof = 1)**2+np.std(h, ddof = 1)**2)/2)\n",
    "lhtcount = len(lh)\n",
    "lht = (np.mean(l)-np.mean(h))/(stdev*np.sqrt(2/lhtcount))\n",
    "count = 0\n",
    "\n",
    "#for loop to perform the t test as a proportion of a t distribution\n",
    "for i in twot:\n",
    "    if i > lht:\n",
    "        count = count + 1\n",
    "pvaluelh = 2*count/1000\n",
    "\n",
    "print('Our p value is:',pvaluelh,'which means that we cannot say confidently that the two samples are from the same populations')"
   ]
  },
  {
   "cell_type": "markdown",
   "id": "1bb9c720",
   "metadata": {},
   "source": [
    "# Problem 2 Changing our data's distributions\n",
    "\n",
    "As we've seen, we typically must assume that our data comes from a normal distribution. Let's use our brute force approach to determine how changing that assumption impacts our null t distributions.\n",
    "\n",
    "- Below, create the null t distributions for a single-sample t test for n = 3, 8 and 30 when sampling from a normal distribution and a uniform distribution. \n",
    "- For each case, plot the density plots such that you can compare the distributions that result from sampling the normally and uniformally distributed data.\n",
    "- Clearly label all figures."
   ]
  },
  {
   "cell_type": "code",
   "execution_count": 5,
   "id": "76473f53",
   "metadata": {},
   "outputs": [
    {
     "data": {
      "image/png": "[encoded data removed]",
      "text/plain": [
       "<Figure size 432x288 with 6 Axes>"
      ]
     },
     "metadata": {
      "needs_background": "light"
     },
     "output_type": "display_data"
    }
   ],
   "source": [
    "#variables and arrays\n",
    "mu = 10\n",
    "sigma = 3\n",
    "t3 = []\n",
    "t8 = []\n",
    "t30 = []\n",
    "u3 = []\n",
    "u8 = []\n",
    "u30 = []\n",
    "bins = 100\n",
    "\n",
    "#for loop to quickly make some t calculations\n",
    "for k in range(1,1000):\n",
    "    singlesamp3 = np.random.normal(mu, sigma, 3)\n",
    "    singlesamp8 = np.random.normal(mu, sigma, 8)\n",
    "    singlesamp30 = np.random.normal(mu, sigma, 30)\n",
    "    uniform3 = np.random.uniform((mu-3*sigma),(mu+3*sigma), 3)\n",
    "    uniform8 = np.random.uniform((mu-3*sigma),(mu+3*sigma), 8)\n",
    "    uniform30 = np.random.uniform((mu-3*sigma),(mu+3*sigma), 30)\n",
    "    t3.append(((np.mean(singlesamp3)-mu)/np.std(singlesamp3, ddof = 1))*np.sqrt(3))\n",
    "    t8.append(((np.mean(singlesamp8)-mu)/np.std(singlesamp8, ddof = 1))*np.sqrt(8))\n",
    "    t30.append(((np.mean(singlesamp30)-mu)/np.std(singlesamp30, ddof = 1))*np.sqrt(30))\n",
    "    u3.append(((np.mean(uniform3)-mu)/np.std(uniform3, ddof = 1))*np.sqrt(3))\n",
    "    u8.append(((np.mean(uniform8)-mu)/np.std(uniform8, ddof = 1))*np.sqrt(8))\n",
    "    u30.append(((np.mean(uniform30)-mu)/np.std(uniform30, ddof = 1))*np.sqrt(30))\n",
    "\n",
    "#plotting\n",
    "plt.subplot(2,3,1)\n",
    "plt.hist(t3, density = True, bins = bins)\n",
    "plt.xlim(-5, 5)\n",
    "plt.title('Normal dist, n = 3')\n",
    "\n",
    "plt.subplot(2,3,2)\n",
    "plt.hist(t8, density = True, bins = bins)\n",
    "plt.xlim(-5, 5)\n",
    "plt.title('Normal dist, n = 8')\n",
    "\n",
    "plt.subplot(2,3,3)\n",
    "plt.hist(t30, density = True, bins = bins)\n",
    "plt.xlim(-5, 5)\n",
    "plt.title('Normal dist, n = 30')\n",
    "\n",
    "plt.subplot(2,3,4)\n",
    "plt.hist(u3, density = True, bins = bins)\n",
    "plt.xlim(-5, 5)\n",
    "plt.title('Uniform dist, n = 3')\n",
    "\n",
    "plt.subplot(2,3,5)\n",
    "plt.hist(u8, density = True, bins = bins)\n",
    "plt.xlim(-5, 5)\n",
    "plt.title('Uniform dist, n = 8')\n",
    "\n",
    "plt.subplot(2,3,6)\n",
    "plt.hist(u30, density = True, bins = bins)\n",
    "plt.xlim(-5, 5)\n",
    "plt.title('Uniform dist, n = 30')\n",
    "\n",
    "plt.tight_layout()"
   ]
  },
  {
   "cell_type": "markdown",
   "id": "d4910ca6",
   "metadata": {},
   "source": [
    "**Comment here** on how changing distributions from which our data is collected impacts the null t distribution."
   ]
  },
  {
   "cell_type": "markdown",
   "id": "21bda6c4",
   "metadata": {},
   "source": [
    "Uniform vs normal distributions are very similar, and have subtle differences at low population sizes. Because uniform distributions are integers, they are more off from from normal distributions at the same population sizes. At higher populations they are more similar"
   ]
  },
  {
   "cell_type": "markdown",
   "id": "a8cf63c1",
   "metadata": {},
   "source": [
    "# Problem 3 U statistic (i.e. no distribution assumptions)\n",
    "\n",
    "One major concern is that we often know nothing about the data. We have no good reason to assume it is from a normal distribution. Instead, we have to use nonparametric statistical tools wherein we do not have to make any assumptions on whether our data comes from a specific population. One option is the U statistic from the Wilcoxon rank-sum test.\n",
    "\n",
    "The assumption here is that two independent samples were selected from populations having the same distribution, but we don't know what that distribution is.\n",
    "\n",
    "How to calculate U for small data sets (i.e. direct method)\n",
    "- U is the number of “wins” between two competing datasets\n",
    "- For each observation in one set, count the number of times this first value wins over any observations in the other set.\n",
    "- Count 0.5 for any ties\n",
    "- The sum of wins and ties is the U for that datasets\n",
    "- To keep our discussion simple, we will ignore the case of ties\n",
    "\n",
    "Here's a short example:\n",
    "- Jason and Mr. N are competing. Jason scores a 100, 55, and 50. Mr. N scores a 90, 80, 60.\n",
    "- Order the data by wins from highest to lowest and indicate who the score belongs to : J N N N J J\n",
    "- We can calculate the U for Jason (call it U1) by adding the number of wins for each J entry. Namely, the first J beats N 3 times while the second and third J have no wins. So we get U1 = 3 + 0 + 0.\n",
    "    - We can do the same calculation for Mr. N and get U2 = 2 + 2 + 2 = 6.\n",
    "- Now, all we need to interpret these numbers is our absolute favorite thing: **a null distribution!!**\n",
    "\n",
    "The null distribution for a U statistic is simply the score all of the **possible combinations of outcomes**. For example, if we only had two measurements for J and N, the possible combinations are:\n",
    "   - JJBB (U1 = 4)\n",
    "   - JBJB (U1 = 3)\n",
    "   - JBBJ (U1 = 2)\n",
    "   - BJBJ (U1 = 1)\n",
    "   - BBJJ (U1 = 0)\n",
    "   - BJJB (U1 = 2)\n",
    "\n",
    "A histogram of the U1's above would be our null distribution. \n",
    "\n",
    "In the space below, wrote the code to construct the null distribution of U1 for when 5 samples are collected for each group. Hint: look for packages that can identify all combinations of two vectors...\n"
   ]
  },
  {
   "cell_type": "code",
   "execution_count": 6,
   "id": "f61ab13d",
   "metadata": {},
   "outputs": [
    {
     "name": "stdout",
     "output_type": "stream",
     "text": [
      "Total combinations: 3628800\n",
      "[[1 1 1 ... 0 0 0]\n",
      " [1 1 1 ... 0 0 0]\n",
      " [1 1 1 ... 0 0 0]\n",
      " ...\n",
      " [0 0 0 ... 1 1 1]\n",
      " [0 0 0 ... 1 1 1]\n",
      " [0 0 0 ... 1 1 1]]\n"
     ]
    },
    {
     "data": {
      "text/plain": [
       "(array([0.01587302, 0.        , 0.        , 0.        , 0.01587302,\n",
       "        0.        , 0.        , 0.        , 0.03174603, 0.        ,\n",
       "        0.        , 0.        , 0.04761905, 0.        , 0.        ,\n",
       "        0.        , 0.07936508, 0.        , 0.        , 0.        ,\n",
       "        0.11111111, 0.        , 0.        , 0.        , 0.14285714,\n",
       "        0.        , 0.        , 0.        , 0.17460317, 0.        ,\n",
       "        0.        , 0.        , 0.22222222, 0.        , 0.        ,\n",
       "        0.        , 0.25396825, 0.        , 0.        , 0.        ,\n",
       "        0.28571429, 0.        , 0.        , 0.        , 0.3015873 ,\n",
       "        0.        , 0.        , 0.        , 0.31746032, 0.        ,\n",
       "        0.        , 0.        , 0.31746032, 0.        , 0.        ,\n",
       "        0.        , 0.3015873 , 0.        , 0.        , 0.        ,\n",
       "        0.28571429, 0.        , 0.        , 0.        , 0.25396825,\n",
       "        0.        , 0.        , 0.        , 0.22222222, 0.        ,\n",
       "        0.        , 0.        , 0.17460317, 0.        , 0.        ,\n",
       "        0.        , 0.14285714, 0.        , 0.        , 0.        ,\n",
       "        0.11111111, 0.        , 0.        , 0.        , 0.07936508,\n",
       "        0.        , 0.        , 0.        , 0.04761905, 0.        ,\n",
       "        0.        , 0.        , 0.03174603, 0.        , 0.        ,\n",
       "        0.        , 0.01587302, 0.        , 0.        , 0.01587302]),\n",
       " array([ 0.  ,  0.25,  0.5 ,  0.75,  1.  ,  1.25,  1.5 ,  1.75,  2.  ,\n",
       "         2.25,  2.5 ,  2.75,  3.  ,  3.25,  3.5 ,  3.75,  4.  ,  4.25,\n",
       "         4.5 ,  4.75,  5.  ,  5.25,  5.5 ,  5.75,  6.  ,  6.25,  6.5 ,\n",
       "         6.75,  7.  ,  7.25,  7.5 ,  7.75,  8.  ,  8.25,  8.5 ,  8.75,\n",
       "         9.  ,  9.25,  9.5 ,  9.75, 10.  , 10.25, 10.5 , 10.75, 11.  ,\n",
       "        11.25, 11.5 , 11.75, 12.  , 12.25, 12.5 , 12.75, 13.  , 13.25,\n",
       "        13.5 , 13.75, 14.  , 14.25, 14.5 , 14.75, 15.  , 15.25, 15.5 ,\n",
       "        15.75, 16.  , 16.25, 16.5 , 16.75, 17.  , 17.25, 17.5 , 17.75,\n",
       "        18.  , 18.25, 18.5 , 18.75, 19.  , 19.25, 19.5 , 19.75, 20.  ,\n",
       "        20.25, 20.5 , 20.75, 21.  , 21.25, 21.5 , 21.75, 22.  , 22.25,\n",
       "        22.5 , 22.75, 23.  , 23.25, 23.5 , 23.75, 24.  , 24.25, 24.5 ,\n",
       "        24.75, 25.  ]),\n",
       " <BarContainer object of 100 artists>)"
      ]
     },
     "execution_count": 6,
     "metadata": {},
     "output_type": "execute_result"
    },
    {
     "data": {
      "image/png": "[encoded data removed]",
      "text/plain": [
       "<Figure size 432x288 with 1 Axes>"
      ]
     },
     "metadata": {
      "needs_background": "light"
     },
     "output_type": "display_data"
    }
   ],
   "source": [
    "#lets import a way to make permutations\n",
    "import itertools as it\n",
    "\n",
    "#it takes usually 1.5-2.5 minutes to run btw\n",
    "\n",
    "#scalars, vectors, and tensors\n",
    "samplesize = 10\n",
    "ab = (1, 1, 1, 1, 1, 0, 0, 0, 0, 0)\n",
    "combs = it.permutations(ab, samplesize)\n",
    "combmatrix = np.array([*combs])\n",
    "totalcombs = len(combmatrix)\n",
    "print('Total combinations:',totalcombs)\n",
    "print(combmatrix)\n",
    "winner=[]\n",
    "wincount = 0\n",
    "\n",
    "#for loop to look over combmatrix\n",
    "for h in range (totalcombs):\n",
    "    for i in range(samplesize):\n",
    "        for j in range(i+1, samplesize):\n",
    "            if combmatrix[h, j] > combmatrix[h, i]:\n",
    "                wincount += 1\n",
    "    winner.append(wincount)\n",
    "    wincount = 0\n",
    "\n",
    "#print(winner)\n",
    "plt.hist(winner, density = True, bins = 100)"
   ]
  },
  {
   "cell_type": "markdown",
   "id": "38135eb7",
   "metadata": {},
   "source": [
    "You collect two samples:\n",
    "\n",
    "a = (7,1,2,8,10)\n",
    "b = (4,5,6,9,11)\n",
    "\n",
    "Use your distribution to estimate the likelihood (two-sided p value) that a and b come from the same distributions.\n"
   ]
  },
  {
   "cell_type": "code",
   "execution_count": 7,
   "id": "e1ed52ae",
   "metadata": {},
   "outputs": [
    {
     "name": "stdout",
     "output_type": "stream",
     "text": [
      "our p value is: 1.3095238095238095 which means we cannot say confidently that these two sets came from the same distribution\n"
     ]
    }
   ],
   "source": [
    "#making our arrays\n",
    "a = [7, 1, 2, 8, 10]\n",
    "b = [4, 5, 6, 9, 11]\n",
    "ab = a + b\n",
    "ab.sort(reverse = True)\n",
    "\n",
    "#externally calculate score, faster than creating for loop\n",
    "count = 0\n",
    "score = 10\n",
    "\n",
    "#for loop to compare to uniform t distribution (null distribution)\n",
    "for i in winner:\n",
    "    if i > score:\n",
    "        count = count + 1\n",
    "\n",
    "#calculating p value\n",
    "pvalue = 2*count/totalcombs\n",
    "print(\"our p value is:\",pvalue,\"which means we cannot say confidently that these two sets came from the same distribution\")"
   ]
  }
 ],
 "metadata": {
  "kernelspec": {
   "display_name": "Python 3.9.12 ('base')",
   "language": "python",
   "name": "python3"
  },
  "language_info": {
   "codemirror_mode": {
    "name": "ipython",
    "version": 3
   },
   "file_extension": ".py",
   "mimetype": "text/x-python",
   "name": "python",
   "nbconvert_exporter": "python",
   "pygments_lexer": "ipython3",
   "version": "3.9.12"
  },
  "vscode": {
   "interpreter": {
    "hash": "3ea7c28dc7569e024bd9f57d5fd933e532fb588a53e331ae301b88ac3d4d46d7"
   }
  }
 },
 "nbformat": 4,
 "nbformat_minor": 5
}
