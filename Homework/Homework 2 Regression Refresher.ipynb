{
 "cells": [
  {
   "cell_type": "markdown",
   "id": "6bfcf881",
   "metadata": {},
   "source": [
    "# Homework 2 Regression Refresher\n",
    "\n",
    "In class, we considered a very simply algorithm called gradient descent that we used to estimate the parameters of a simple linear model. But we left many considerations open. These include:\n",
    "- Normalization \n",
    "    - We saw that the SSE is a very big number in our example, leading us to choose awkwardly small learning rates. Normaling the error may help us use more reasonably sized learning rates.\n",
    "- When to stop\n",
    "    - We can tell the algorithm to stop after a set number of iterations or, something smarter, tell it to stop when it begins to take very small step sizes\n",
    "- Multiple solutions\n",
    "    - It should be obvious that gradient descent, as an algorithm, doesn't do much \"thinking\". \n",
    "    - If there are multiple solutions, it will only find one\n",
    "        \n",
    "\n",
    "## Problem 1 - Use gradient descent to identify multiple minima\n",
    "\n",
    "Regression algorithms ultimately search for minima. This can be where an error function is minimized (as we saw in class) or when a polynomial equation is minimized. Using the code from our lecture, adapt the code in order to indentify the roots of the following equation: \n",
    "\n",
    "$x^3 - 6x^2 +11x = 6$\n",
    "  \n",
    "- Look at homework 1 for how to tackle this problem.\n",
    "- Since the polynomial will have more than 1 solution, be sure to consider multiple starting guesses. \n",
    "- Use the \"roots\" function from numpy to check your answer. Roots is especially designed for polynomials and should find all roots."
   ]
  },
  {
   "cell_type": "code",
   "execution_count": 225,
   "id": "26467cf1",
   "metadata": {},
   "outputs": [
    {
     "name": "stdout",
     "output_type": "stream",
     "text": [
      "My best value for one solution is x = 1.999999001495821\n",
      "[3. 2. 1.]\n"
     ]
    },
    {
     "data": {
      "image/png": "[encoded data removed]",
      "text/plain": [
       "<Figure size 432x288 with 1 Axes>"
      ]
     },
     "metadata": {
      "needs_background": "light"
     },
     "output_type": "display_data"
    }
   ],
   "source": [
    "import numpy as np\n",
    "import matplotlib.pyplot as plt\n",
    "\n",
    "derivativerate = .001\n",
    "\n",
    "#defining the derivative of the polynomial\n",
    "def func(x):\n",
    "    y = (x**3)-6*(x**2)+11*x-6\n",
    "    return abs(y)\n",
    "\n",
    "#getting derivative of the derivative to try and find the local minima\n",
    "def derivative(x):\n",
    "    DERIVATIVE = (func(x+derivativerate)-func(x))/derivativerate\n",
    "    return DERIVATIVE\n",
    "\n",
    "#some parameters needed\n",
    "n = 0\n",
    "currentx = 2\n",
    "rate = 0.001\n",
    "\n",
    "# Plotting initial derivative value\n",
    "plt.plot(currentx, func(currentx),'o')\n",
    "plt.text(currentx, func(currentx),n)\n",
    "\n",
    "#minimizing derivative value\n",
    "while n < 1000:\n",
    "    newx = currentx - rate * derivative(currentx)\n",
    "    #print(derivative(currentx))\n",
    "    currentx = newx\n",
    "    #print(newx)\n",
    "    n = n + 1\n",
    "    plt.plot(newx, func(newx),'o')\n",
    "    plt.text(newx, func(newx),n)\n",
    "\n",
    "#plotting and printing solution value\n",
    "print(\"My best value for one solution is x =\", newx)\n",
    "plt.xlabel(\"x\")\n",
    "plt.ylabel(\"abs(y)\")\n",
    "\n",
    "poly = [1, -6, 11, -6]\n",
    "\n",
    "print(np.roots(poly))\n",
    "\n",
    "#loooooks good"
   ]
  },
  {
   "cell_type": "markdown",
   "id": "fa6339d8",
   "metadata": {},
   "source": [
    "## Problem 2 - Linear regression can be used to analyze \"groups\"\n",
    "\n",
    "In class, we used linear regression to fit a linear model to height and weight data. In this case, the measurements (x) and the outcomes (y) are continuous. Linear regression is also commonly used to analyze groups, wherein the measurements are not continous. For example, we may have measured the height of persons who did or did not eat asparagus when they were young. In this case, x is discrete - a collection of 1's and 0's. \n",
    "\n",
    "Let's use linear regression to analyze the miles per gallon achieved by select type of cars. Download the data from https://gist.github.com/noamross/e5d3e859aa0c794be10b. We want to determine if 8 cylinder vehicles get less gas mileage than 4 and 6 cylinder cars. Cyl = cylinders; MPG = miles per gallon on the table.\n",
    "\n",
    "### a) Write the code to determine the average MPG for 8 cylinder vehicles vs 4/6 cyl vehicle.\n",
    "Be sure the mean values are clearly identified or report them in a new markup cell below the code. Be sure that you are treating 4 and 6 cyl vehicles as one group."
   ]
  },
  {
   "cell_type": "code",
   "execution_count": 226,
   "id": "fe2006ba",
   "metadata": {},
   "outputs": [
    {
     "name": "stdout",
     "output_type": "stream",
     "text": [
      "The mean for 4 and 6 cylinder cars is  23.97222222222222\n",
      "The mean for 8 cylinder cars is  15.100000000000003\n"
     ]
    }
   ],
   "source": [
    "import pandas as pd\n",
    "import numpy as np\n",
    "\n",
    "dat = pd.read_csv(r\"C:\\Users\\mdsnb\\OneDrive\\Documents\\GitHub\\ChE_2410_Math\\cars.csv\")\n",
    "\n",
    "dat4 = dat.loc[dat[\"cyl\"] == 4]\n",
    "\n",
    "dat6 = dat.loc[dat[\"cyl\"] == 6]\n",
    "\n",
    "dat4_6= pd.concat([dat4, dat6])\n",
    "\n",
    "dat8 = dat.loc[dat[\"cyl\"] == 8]\n",
    "\n",
    "print(\"The mean for 4 and 6 cylinder cars is \", dat4_6[\"mpg\"].mean())\n",
    "\n",
    "print(\"The mean for 8 cylinder cars is \", dat8[\"mpg\"].mean())"
   ]
  },
  {
   "cell_type": "markdown",
   "id": "dad8b85a",
   "metadata": {},
   "source": [
    "### b) Analyze using linear regression\n",
    "To analyze with linear regression, we have to create a linear model. Here, our y is the MPG. But x is not a continous variable - it's a group variable. \n",
    "\n",
    "- Let's create a \"Group\" column in our data, where a 1 indicates that a vehicle has a 8 cyl engine and a 0 to indicate a 4 or 6 cylinder vehicle. \n",
    "- Use the linear regression **mathematical code** (do not use packages; perform the matrix algrebra) from class to calculate the slope and intercept. Feel free to check your answer using on the packages demonstrated in class.\n",
    "- Report the slope and intercept in a text box below your code. \n",
    "- In the text box, also compare the calculated slope and intercept to the values of the means calculated above. Do you notice any obvious relationships?\n",
    "\n"
   ]
  },
  {
   "cell_type": "code",
   "execution_count": 227,
   "id": "1958d642",
   "metadata": {},
   "outputs": [
    {
     "name": "stdout",
     "output_type": "stream",
     "text": [
      "Our regression intercept is  23.97222222222222 and our slope is -8.87222222222222\n"
     ]
    },
    {
     "data": {
      "text/plain": [
       "[<matplotlib.lines.Line2D at 0x24401221b20>]"
      ]
     },
     "execution_count": 227,
     "metadata": {},
     "output_type": "execute_result"
    },
    {
     "data": {
      "image/png": "[encoded data removed]",
      "text/plain": [
       "<Figure size 432x288 with 1 Axes>"
      ]
     },
     "metadata": {
      "needs_background": "light"
     },
     "output_type": "display_data"
    }
   ],
   "source": [
    "import pandas as pd\n",
    "import numpy as np\n",
    "from numpy.linalg import inv \n",
    "import matplotlib.pyplot as plt\n",
    "\n",
    "dat = pd.read_csv(r\"C:\\Users\\mdsnb\\OneDrive\\Documents\\GitHub\\ChE_2410_Math\\cars.csv\")\n",
    "\n",
    "#Call specific rows, organizing the dataframes by cylinder type\n",
    "dat4 = dat.loc[dat[\"cyl\"] == 4]\n",
    "dat6 = dat.loc[dat[\"cyl\"] == 6]\n",
    "dat8 = dat.loc[dat[\"cyl\"] == 8]\n",
    "\n",
    "#Concatinate dat4 and dat6\n",
    "dat4_6 = pd.concat([dat4, dat6])\n",
    "\n",
    "#Create array of mpg column for linalg\n",
    "dat4_6_mpg_list = dat4_6[\"mpg\"].values.tolist()\n",
    "dat8_mpg_list = dat8[\"mpg\"].values.tolist()\n",
    "dat4_6_mpg_array = np.array(dat4_6_mpg_list)\n",
    "dat8_mpg_array = np.array(dat8_mpg_list)\n",
    "datmpg = np.append([dat4_6_mpg_array],[dat8_mpg_array])\n",
    "\n",
    "#Create array of 0s and 1s columns for linalg\n",
    "dat4_6length = len(dat4_6.index)\n",
    "dat8length = len(dat8.index)\n",
    "dat0s = np.zeros(dat4_6length)\n",
    "dat1s = np.ones(dat8length)\n",
    "dat01s = np.append([dat0s],[dat1s])\n",
    "dat1s2 = np.ones(len(dat01s))\n",
    "\n",
    "#Create matrix\n",
    "matrix = np.vstack((dat1s2, dat01s)).T\n",
    "datX = matrix[:,0]\n",
    "datY = matrix[:,1]\n",
    "\n",
    "tmp = inv(np.matmul(np.transpose(matrix),matrix))\n",
    "\n",
    "INTERCEPT, SLOPE = tmp @ np.transpose(matrix) @ datmpg\n",
    "\n",
    "print(\"Our regression intercept is \", INTERCEPT, \"and our slope is\", SLOPE)\n",
    "\n",
    "plt.scatter(dat01s,datmpg)\n",
    "plt.plot([0, 1],[INTERCEPT, INTERCEPT + SLOPE])"
   ]
  },
  {
   "cell_type": "markdown",
   "id": "448e4044",
   "metadata": {},
   "source": [
    "This is a very sensible output, the regression intercept is approximately the average mpg for the 4 and 6 cylinder engines, and it descends to approximately the average for the other cylinder cars."
   ]
  }
 ],
 "metadata": {
  "kernelspec": {
   "display_name": "Python 3.9.12 ('base')",
   "language": "python",
   "name": "python3"
  },
  "language_info": {
   "codemirror_mode": {
    "name": "ipython",
    "version": 3
   },
   "file_extension": ".py",
   "mimetype": "text/x-python",
   "name": "python",
   "nbconvert_exporter": "python",
   "pygments_lexer": "ipython3",
   "version": "3.9.12"
  },
  "vscode": {
   "interpreter": {
    "hash": "3ea7c28dc7569e024bd9f57d5fd933e532fb588a53e331ae301b88ac3d4d46d7"
   }
  }
 },
 "nbformat": 4,
 "nbformat_minor": 5
}
