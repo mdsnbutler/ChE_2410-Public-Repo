{
 "cells": [
  {
   "cell_type": "markdown",
   "id": "e5ca11b4",
   "metadata": {},
   "source": [
    "# Homework 8 Phase Portraits and Cycles\n",
    "\n",
    "\n",
    "\n"
   ]
  },
  {
   "cell_type": "markdown",
   "id": "623df293",
   "metadata": {},
   "source": [
    "# Phase portrait analysis of a chemostat\n",
    "\n",
    "Question from H.T. Banks and Marie Davidian\n",
    "\n",
    "A chemostat is a bioreactor where a microbial culture is continuously supplied with nutrients at a fixed rate and concomitantly harvested to keep the culture at a constant concentration. Chemostats are also used as microcosms in ecology and evolutionary biology as well as in wastewater treatment. \n",
    "\n",
    "Here, we consider the problem of growth of micro-organisms, for example, a population of bacteria requiring an energy source containing carbon for growth (say a simple sugar). Suppose we have some bacteria in a container, and we add nutrients continuously in this container (i.e., a continuous culture medium). Assume the bacteria's growth depends on a limiting nutrient\n",
    "alone (i.e., all other nutrients are in excess and other conditions necessary for their growth are adequate). The container has an outlet so that nutrients and bacteria in the container can flow out. We further assume the container is well mixed.\n",
    "\n",
    "Let:\n",
    "- V be the volume of the chemost stat and equal to 1$L$.\n",
    "- Q be the fixed volumetric flow rate and equal to 1 $L/h$.\n",
    "- q = Q/V be the dilution rate ($h^{-1}$)\n",
    "- N(t) be the mass of bacteria at time t. \n",
    "- c(t) be the concentration of nutrients ($g/L$) and $c_0$ be the concentration of nutrients in the feed line, equal to 8 g/L.\n",
    "- r be the growth rate of bacteria ($h^{-1}$) where $r(c) = \\frac{R_{max}c(t)}{(K_m+c(t))}$. Let $K_m = 4$ and $R_{max}=2$. \n",
    "- y is the yield parameter equal to 0.25 $unitless$.\n",
    "\n",
    "\\begin{align}\n",
    "\\dot{N} = rN(t)-qN(t)\\\\\n",
    "\\dot{c} = qc_0-qc(t)-y^{-1}rN(t)\\\\\n",
    "\\end{align}\n",
    "\n",
    "."
   ]
  },
  {
   "cell_type": "markdown",
   "id": "adc58279",
   "metadata": {},
   "source": [
    "1. Is this system linear or nonlinear? Defend your answer below. **Use a text cell.**"
   ]
  },
  {
   "cell_type": "code",
   "execution_count": null,
   "id": "a139b0e1",
   "metadata": {},
   "outputs": [],
   "source": []
  },
  {
   "cell_type": "markdown",
   "id": "057d8864",
   "metadata": {},
   "source": [
    "2. Perform a phase plane analysis of this system. Be sure to carefully consider the bounds of your axes. If you use the program plotdf from class, be sure to read the help file. Be sure to add example trajectories to your plot that start at (x_0,y_0) = (1,1),(3,9) and (0.1,0.1)."
   ]
  },
  {
   "cell_type": "code",
   "execution_count": null,
   "id": "5c137013",
   "metadata": {},
   "outputs": [],
   "source": []
  },
  {
   "cell_type": "markdown",
   "id": "06e28b55",
   "metadata": {},
   "source": [
    "3. In words with a text cell, describe all important aspects of your phase portrait. How many steadystates exists? Under what starting conditions do we expect our chemostat to overshoot the steadystate concentration of nutrients? Under what starting conditions do we expect our chemostat to overshoot the steadystate concentration of bacteria? "
   ]
  },
  {
   "cell_type": "code",
   "execution_count": null,
   "id": "b112f7a5",
   "metadata": {},
   "outputs": [],
   "source": []
  },
  {
   "cell_type": "markdown",
   "id": "7b04d27c",
   "metadata": {},
   "source": [
    "4. As a hint for the part above, two steadystates exist. Perform an eigenvalue and eigenvector analysis on both. Add a point to your phase portrait indicating if the steadystate is stable (closed point) or unstable (open point). And add arrows indicating the directions of the corresponding eigenvectors. Make the length of the arrows correspond to the size of the eigenvalue.\n",
    "\n",
    "Note that for an unstable node, the arrows should point away. For a stable node or direction, the arrows should point towards the node."
   ]
  },
  {
   "cell_type": "code",
   "execution_count": null,
   "id": "d2d2a7cf",
   "metadata": {},
   "outputs": [],
   "source": []
  },
  {
   "cell_type": "markdown",
   "id": "b7984ca8",
   "metadata": {},
   "source": [
    "# Cycles in Glycolysis\n",
    "\n",
    "Glycolysis is how cells breakdown sugars to produce energy and the concentrations of many proteins and molecules involved in this process have been shown to wax and wane over periods of time. Sel'kov proposed a simple model of glycolysis:\n",
    "\\begin{align}\n",
    "\\dot{x} = -x+ay+x^2y\\\\\n",
    "\\dot{y} = b - ay - x^2y\\\\\n",
    "\\end{align}\n",
    "where x and y are nondimensionalized forms of ADP, F6P (a phosphate) and a,b > 0 are kinetic parameters. Let's explore the system dynamics for two scenarios."
   ]
  },
  {
   "cell_type": "markdown",
   "id": "8237d430",
   "metadata": {},
   "source": [
    "1. Let a = .15 and b = 1.2. Construct a phase portrait of the system and be sure to include trajectories for (x_0,y_0) = (1,1) and (2,2)."
   ]
  },
  {
   "cell_type": "code",
   "execution_count": null,
   "id": "5e3bc796",
   "metadata": {},
   "outputs": [],
   "source": []
  },
  {
   "cell_type": "markdown",
   "id": "9881861b",
   "metadata": {},
   "source": [
    "2. In the *text cell* below, describe the system dynamics you observed based on the phase portrait."
   ]
  },
  {
   "cell_type": "markdown",
   "id": "d2f9936a",
   "metadata": {},
   "source": []
  },
  {
   "cell_type": "markdown",
   "id": "ddcfce1d",
   "metadata": {},
   "source": [
    "3. Let a = 0.04 and b = 0.6. Construct a phase portrait of the system and be sure to include trajectories for (x_0,y_0) = (1,1) and (2,2)."
   ]
  },
  {
   "cell_type": "code",
   "execution_count": null,
   "id": "acd054f3",
   "metadata": {},
   "outputs": [],
   "source": []
  },
  {
   "cell_type": "markdown",
   "id": "8b42c181",
   "metadata": {},
   "source": [
    "4. In the *text cell* below, describe the system dynamics you observed based on the phase portrait."
   ]
  },
  {
   "cell_type": "markdown",
   "id": "676a1d2d",
   "metadata": {},
   "source": []
  },
  {
   "cell_type": "markdown",
   "id": "663212a7",
   "metadata": {},
   "source": [
    "5. We have seen that steadystates with complex eigenvalues with negative real parts are oscillatory and stable. How does the dynamics of a system near a steadystate with negative real-part, complex eigenvalues differ from a limit cycle? Explain in a text cell below."
   ]
  },
  {
   "cell_type": "markdown",
   "id": "bc6cd147",
   "metadata": {},
   "source": []
  }
 ],
 "metadata": {
  "kernelspec": {
   "display_name": "Python 3",
   "language": "python",
   "name": "python3"
  },
  "language_info": {
   "codemirror_mode": {
    "name": "ipython",
    "version": 3
   },
   "file_extension": ".py",
   "mimetype": "text/x-python",
   "name": "python",
   "nbconvert_exporter": "python",
   "pygments_lexer": "ipython3",
   "version": "3.8.8"
  }
 },
 "nbformat": 4,
 "nbformat_minor": 5
}
